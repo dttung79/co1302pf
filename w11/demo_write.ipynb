{
 "cells": [
  {
   "cell_type": "code",
   "execution_count": 2,
   "metadata": {},
   "outputs": [
    {
     "name": "stdout",
     "output_type": "stream",
     "text": [
      "All done!\n"
     ]
    }
   ],
   "source": [
    "f = open('authors.txt', 'r')\n",
    "fw = open('authors_gmail.txt', 'w') # open with write mode\n",
    "\n",
    "authors = f.readlines()\n",
    "#print(f'{\"Author\":20}{\"Email\":20}')\n",
    "fw.write(f'{\"Author\":20}{\"Email\":20}\\n')\n",
    "for author in authors:\n",
    "    if '@gmail' in author:\n",
    "        name = author.split(' <')[0]\n",
    "        email = author.split('<')[1].split('>')[0]\n",
    "        #print(f'{name:20}{email:20}')\n",
    "        fw.write(f'{name:20}{email:20}\\n')\n",
    "\n",
    "print('All done!')\n",
    "f.close()\n",
    "fw.close()  # more important than f.close() because it writes the content to the file"
   ]
  },
  {
   "cell_type": "code",
   "execution_count": 4,
   "metadata": {},
   "outputs": [
    {
     "name": "stdout",
     "output_type": "stream",
     "text": [
      "All done!\n"
     ]
    }
   ],
   "source": [
    "# write to file using csv\n",
    "import csv\n",
    "f = open('authors.txt', 'r')\n",
    "fw = open('authors_gmail.csv', 'w', newline='') # open with write mode\n",
    "writer = csv.writer(fw)\n",
    "\n",
    "authors = f.readlines()\n",
    "#print(f'{\"Author\":20}{\"Email\":20}')\n",
    "#fw.write(f'{\"Author\":20}{\"Email\":20}\\n')\n",
    "writer.writerow(['Author', 'Email'])\n",
    "\n",
    "for author in authors:\n",
    "    if '@gmail' in author:\n",
    "        name = author.split(' <')[0]\n",
    "        email = author.split('<')[1].split('>')[0]\n",
    "        #print(f'{name:20}{email:20}')\n",
    "        #fw.write(f'{name:20}{email:20}\\n')\n",
    "        writer.writerow([name, email])\n",
    "\n",
    "print('All done!')\n",
    "f.close()\n",
    "fw.close()  # more important than f.close() because it writes the content to the file"
   ]
  },
  {
   "cell_type": "code",
   "execution_count": 5,
   "metadata": {},
   "outputs": [
    {
     "name": "stdout",
     "output_type": "stream",
     "text": [
      "All done!\n"
     ]
    }
   ],
   "source": [
    "# Exercise: Open books.csv, find books that have price >= 400, write to a new file books_expensive.csv\n",
    "f = open('books.csv', 'r')\n",
    "csv_reader = csv.reader(f)  # create a csv reader object\n",
    "header = next(csv_reader)   # read the header\n",
    "\n",
    "fw = open('books_expensive.csv', 'w', newline='') # open with write mode\n",
    "writer = csv.writer(fw)\n",
    "writer.writerow(header)     # write the header to the new file\n",
    "\n",
    "for row in csv_reader:      # for each row in the csv file\n",
    "    name = row[0]\n",
    "    author = row[1]\n",
    "    price = int(row[2])\n",
    "\n",
    "    if price >= 400:\n",
    "        writer.writerow([name, author, price])\n",
    "    \n",
    "f.close()\n",
    "fw.close()\n",
    "print('All done!')"
   ]
  }
 ],
 "metadata": {
  "kernelspec": {
   "display_name": "Python 3",
   "language": "python",
   "name": "python3"
  },
  "language_info": {
   "codemirror_mode": {
    "name": "ipython",
    "version": 3
   },
   "file_extension": ".py",
   "mimetype": "text/x-python",
   "name": "python",
   "nbconvert_exporter": "python",
   "pygments_lexer": "ipython3",
   "version": "3.12.4"
  }
 },
 "nbformat": 4,
 "nbformat_minor": 2
}
