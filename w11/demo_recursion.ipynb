{
 "cells": [
  {
   "cell_type": "code",
   "execution_count": 3,
   "metadata": {},
   "outputs": [
    {
     "name": "stdout",
     "output_type": "stream",
     "text": [
      "1 2 3 4 5 \n",
      "1 2 3 4 5 6 7 8 9 10 "
     ]
    }
   ],
   "source": [
    "# Recursive function: a function that calls itself (directly or indirectly)\n",
    "def print_to_n(n, start=1):\n",
    "    if start > n:\n",
    "        return\n",
    "    print(start, end=' ')\n",
    "    print_to_n(n, start + 1)\n",
    "\n",
    "print_to_n(5)\n",
    "print()\n",
    "print_to_n(10)"
   ]
  },
  {
   "cell_type": "code",
   "execution_count": 4,
   "metadata": {},
   "outputs": [
    {
     "name": "stdout",
     "output_type": "stream",
     "text": [
      "5 4 3 2 1 \n",
      "10 9 8 7 6 5 4 3 2 1 "
     ]
    }
   ],
   "source": [
    "# Recursive function contains two parts:\n",
    "# 1. Base case: the simplest case, which can be solved directly. No recursive call.\n",
    "# 2. Recursive case: a complex case, which can be solved by simplifying it into a smaller case and a recursive call.\n",
    "def print_reverse(n):\n",
    "    # base case: n == 0 then stop\n",
    "    if n == 0:\n",
    "        return\n",
    "    print(n, end=' ')\n",
    "    # recursive case: call print_reverse for n - 1\n",
    "    print_reverse(n - 1)\n",
    "\n",
    "print_reverse(5)\n",
    "print()\n",
    "print_reverse(10)"
   ]
  },
  {
   "cell_type": "code",
   "execution_count": null,
   "metadata": {},
   "outputs": [],
   "source": [
    "def find_x(a, x, start=0):\n",
    "    if start == len(a):\n",
    "        return False\n",
    "    if a[start] == x:\n",
    "        return True\n",
    "    return find_x(a, x, start + 1)"
   ]
  },
  {
   "cell_type": "code",
   "execution_count": 5,
   "metadata": {},
   "outputs": [
    {
     "name": "stdout",
     "output_type": "stream",
     "text": [
      "1\n",
      "3\n",
      "0\n"
     ]
    }
   ],
   "source": [
    "def count_x(a, x, start=0):\n",
    "    if start == len(a):\n",
    "        return 0\n",
    "    if a[start] == x:\n",
    "        return 1 + count_x(a, x, start + 1)\n",
    "    return count_x(a, x, start + 1)\n",
    "\n",
    "a = [2, 4, 7, 2, 10, 3, 2]\n",
    "print(count_x(a, 7)) # 1\n",
    "print(count_x(a, 2)) # 3\n",
    "print(count_x(a, 5)) # 0"
   ]
  },
  {
   "cell_type": "code",
   "execution_count": 7,
   "metadata": {},
   "outputs": [
    {
     "name": "stdout",
     "output_type": "stream",
     "text": [
      "1 1 2 3 5 8 13 21 34 55 "
     ]
    }
   ],
   "source": [
    "def fibonacci(n):\n",
    "    if n == 0 or n == 1:\n",
    "        return 1\n",
    "    return fibonacci(n - 1) + fibonacci(n - 2)\n",
    "\n",
    "for n in range(10):\n",
    "    print(fibonacci(n), end=' ')"
   ]
  },
  {
   "cell_type": "code",
   "execution_count": 9,
   "metadata": {},
   "outputs": [
    {
     "name": "stdout",
     "output_type": "stream",
     "text": [
      "5! = 120\n"
     ]
    }
   ],
   "source": [
    "def factorial(n):\n",
    "    # base case\n",
    "    if n == 0:\n",
    "        return 1\n",
    "    # recursive case\n",
    "    return n * factorial(n - 1)\n",
    "\n",
    "print(f'5! = {factorial(5)}') # 120"
   ]
  }
 ],
 "metadata": {
  "kernelspec": {
   "display_name": "Python 3",
   "language": "python",
   "name": "python3"
  },
  "language_info": {
   "codemirror_mode": {
    "name": "ipython",
    "version": 3
   },
   "file_extension": ".py",
   "mimetype": "text/x-python",
   "name": "python",
   "nbconvert_exporter": "python",
   "pygments_lexer": "ipython3",
   "version": "3.12.4"
  }
 },
 "nbformat": 4,
 "nbformat_minor": 2
}
