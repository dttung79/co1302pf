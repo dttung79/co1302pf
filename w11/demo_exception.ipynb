{
 "cells": [
  {
   "cell_type": "code",
   "execution_count": null,
   "metadata": {},
   "outputs": [],
   "source": [
    "# Exception: runtime error that not normally happens but when it does, it stops the program\n",
    "# For example: division by zero, file not found, index out of bound, etc."
   ]
  },
  {
   "cell_type": "code",
   "execution_count": 14,
   "metadata": {},
   "outputs": [
    {
     "name": "stdout",
     "output_type": "stream",
     "text": [
      "3/8 = 0.375\n",
      "Program ends\n"
     ]
    }
   ],
   "source": [
    "try:\n",
    "    a = int(input('Enter a: '))\n",
    "    b = int(input('Enter b: '))\n",
    "    c = a/b\n",
    "    print(f'{a}/{b} = {c}')\n",
    "except ZeroDivisionError:\n",
    "    print('Division by zero is not allowed')\n",
    "except ValueError:\n",
    "    print('Invalid input, must be numbers!')\n",
    "\n",
    "print('Program ends')"
   ]
  },
  {
   "cell_type": "code",
   "execution_count": 18,
   "metadata": {},
   "outputs": [
    {
     "name": "stdout",
     "output_type": "stream",
     "text": [
      "Index out of bound\n"
     ]
    }
   ],
   "source": [
    "# index error\n",
    "try:\n",
    "    a = [1, 2, 3, 4, 5]\n",
    "    i = int(input('Enter index: '))\n",
    "    print(a[i])\n",
    "except IndexError:\n",
    "    print('Index out of bound')"
   ]
  },
  {
   "cell_type": "code",
   "execution_count": 22,
   "metadata": {},
   "outputs": [
    {
     "name": "stdout",
     "output_type": "stream",
     "text": [
      "Name,Author,Price\n",
      "Harry Potter,JK Rowling,1000\n",
      "Java Programming,Mr. Tung,200\n",
      "Fly over the Cuckoo's Nest,Ken Kesey,300\n",
      "The Great Gatsby,F. Scott Fitzgerald,400\n",
      "File closed\n"
     ]
    }
   ],
   "source": [
    "try:\n",
    "    f = open(input('Enter file name: '))\n",
    "    content = f.read()\n",
    "    print(content)\n",
    "except FileNotFoundError:\n",
    "    print('File not found')\n",
    "finally:\n",
    "    f.close()\n",
    "    print('File closed')"
   ]
  }
 ],
 "metadata": {
  "kernelspec": {
   "display_name": "Python 3",
   "language": "python",
   "name": "python3"
  },
  "language_info": {
   "codemirror_mode": {
    "name": "ipython",
    "version": 3
   },
   "file_extension": ".py",
   "mimetype": "text/x-python",
   "name": "python",
   "nbconvert_exporter": "python",
   "pygments_lexer": "ipython3",
   "version": "3.12.4"
  }
 },
 "nbformat": 4,
 "nbformat_minor": 2
}
