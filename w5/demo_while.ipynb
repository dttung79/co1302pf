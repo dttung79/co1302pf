{
 "cells": [
  {
   "cell_type": "markdown",
   "metadata": {},
   "source": [
    "# When to use while loop: unknown number of iterations\n",
    "# Syntax of while\n",
    "while condition:\n",
    "    block of code"
   ]
  },
  {
   "cell_type": "code",
   "execution_count": null,
   "metadata": {},
   "outputs": [],
   "source": [
    "n = 0\n",
    "while n <= 0:\n",
    "    n = int(input('Enter a positive number: '))\n",
    "    if n <= 0:\n",
    "        print('Invalid')\n",
    "\n",
    "print('The number is', n)"
   ]
  },
  {
   "cell_type": "code",
   "execution_count": 4,
   "metadata": {},
   "outputs": [
    {
     "name": "stdout",
     "output_type": "stream",
     "text": [
      "Sell computer with price $1200\n",
      "Target reached. Total price is $1200\n"
     ]
    }
   ],
   "source": [
    "# A saleman sells some products to reach to a target (1000).\n",
    "# The program will ask for name of product, price of product until the total price reaches 1000.\n",
    "total_price = 0\n",
    "while total_price < 1000:\n",
    "    product = input('Enter product name: ')\n",
    "    price = int(input('Enter product price: '))\n",
    "    print(f'Sell {product} with price ${price}')\n",
    "    total_price += price\n",
    "\n",
    "print(f'Target reached. Total price is ${total_price}')"
   ]
  },
  {
   "cell_type": "code",
   "execution_count": null,
   "metadata": {},
   "outputs": [],
   "source": [
    "# Ex1: Write a program that convert temparature from Celcius to Farenheit\n",
    "# Ask user to enter temperature in Celcius then convert to Farenheit. Then ask if user to convert another temperature. If use choose 'yes' then do it again."
   ]
  },
  {
   "cell_type": "code",
   "execution_count": null,
   "metadata": {},
   "outputs": [],
   "source": [
    "converting = True\n",
    "\n",
    "while converting:\n",
    "    temp_c = float(input('Enter temperature in Celcius: '))\n",
    "    temp_f = temp_c * 9/5 + 32\n",
    "    print(f'{temp_c} Celcius is {temp_f} Farenheit')\n",
    "\n",
    "    answer = input('Do you want to convert another temperature (yes/no)? ')\n",
    "    converting = answer == 'yes'"
   ]
  },
  {
   "cell_type": "code",
   "execution_count": 5,
   "metadata": {},
   "outputs": [
    {
     "name": "stdout",
     "output_type": "stream",
     "text": [
      "Total point so far 20\n",
      "Total point so far 50\n",
      "Total point so far 120\n",
      "Too many bugs. System stops!\n"
     ]
    }
   ],
   "source": [
    "# Ex2: A system is being tested to find severe bugs. Each bug is assigned to a fault-points.\n",
    "# If total fault-points exceed 100, the system will stop. \n",
    "# Write a program to simulate that, asking user to enter bug name and fault points then stop the system if total fault points >= 100\n",
    "total_points = 0\n",
    "while total_points < 100:\n",
    "    bug = input('Enter bug name: ')\n",
    "    point = int(input(f'Enter fault point for bug {bug}'))\n",
    "    total_points += point\n",
    "    print(f'Total point so far {total_points}')\n",
    "\n",
    "print(f'Too many bugs. System stops!')"
   ]
  },
  {
   "cell_type": "code",
   "execution_count": 8,
   "metadata": {},
   "outputs": [
    {
     "name": "stdout",
     "output_type": "stream",
     "text": [
      "Time: 8:00. It is time to drink water\n",
      "You still need to drink 1.20L more.\n",
      "Time: 10:00. It is time to drink water\n",
      "You still need to drink 0.40L more.\n",
      "Time: 12:00. It is time to drink water\n",
      "Enough water for today\n"
     ]
    }
   ],
   "source": [
    "# Ex3: Simulate a cron job that reminds user to drink water after every 2h, starting from 8 Am.\n",
    "# Asking user amount of water they drink and showing the amount user need to drink more to reach 2L.\n",
    "# If user drinks up 2L, it will stop. \n",
    "to_drink = 2\n",
    "start_time = 8\n",
    "while to_drink > 0:\n",
    "    print(f'Time: {start_time}:00. It is time to drink water')\n",
    "    amount = float(input('Enter amount of water you drink: '))\n",
    "    to_drink -= amount\n",
    "    if to_drink > 0:\n",
    "        print(f'You still need to drink {to_drink:.2f}L more.')\n",
    "    start_time += 2\n",
    "    \n",
    "print('Enough water for today')"
   ]
  },
  {
   "cell_type": "code",
   "execution_count": null,
   "metadata": {},
   "outputs": [],
   "source": [
    "# Nested while loop: a while loop inside another while loop\n",
    "# Update the water drinking problem\n",
    "to_drink = 2\n",
    "start_time = 8\n",
    "while to_drink > 0:\n",
    "    print(f'Time: {start_time}:00. It is time to drink water')\n",
    "    amount = float(input('Enter amount of water you drink: '))\n",
    "    \n",
    "    while amount <= 0:\n",
    "        print('Invalid amount')\n",
    "        amount = float(input('Enter amount of water you drink: '))\n",
    "    \n",
    "    to_drink -= amount\n",
    "    if to_drink > 0:\n",
    "        print(f'You still need to drink {to_drink:.2f}L more.')\n",
    "    start_time += 2\n",
    "    \n",
    "print('Enough water for today')"
   ]
  },
  {
   "cell_type": "code",
   "execution_count": 9,
   "metadata": {},
   "outputs": [
    {
     "name": "stdout",
     "output_type": "stream",
     "text": [
      "0 1 2 3 4 \n",
      "0 1 2 3 4 6 7 8 9 "
     ]
    }
   ],
   "source": [
    "# break & continue\n",
    "# break: skip the current loop and exit the loop\n",
    "# continue: skip the current loop and continue to the next loop\n",
    "for i in range(10):\n",
    "    if i == 5:\n",
    "        break\n",
    "    print(i, end=' ')\n",
    "print()\n",
    "for i in range(10):\n",
    "    if i == 5:\n",
    "        continue\n",
    "    print(i, end=' ')\n"
   ]
  },
  {
   "cell_type": "code",
   "execution_count": null,
   "metadata": {},
   "outputs": [],
   "source": [
    "# generate a random number between 1 and 10\n",
    "import random as rd\n",
    "n = rd.randint(1, 10)\n",
    "win = False\n",
    "for i in range(1, 6):\n",
    "    print(f'Turn {i}')\n",
    "    guess = int(input('Enter your guess (1-10): '))\n",
    "    if guess == n:\n",
    "        print('You win')\n",
    "        win = True\n",
    "        break\n",
    "if not win:\n",
    "    print('You loose. The number is', n)"
   ]
  },
  {
   "cell_type": "code",
   "execution_count": null,
   "metadata": {},
   "outputs": [],
   "source": [
    "# Ex4: Extend guessing game to ask user if they want to play again\n",
    "playing = True\n",
    "while playing:\n",
    "    n = rd.randint(1, 10)\n",
    "    win = False\n",
    "    for i in range(1, 6):\n",
    "        print(f'Turn {i}')\n",
    "        guess = int(input('Enter your guess (1-10): '))\n",
    "        if guess == n:\n",
    "            print('You win')\n",
    "            win = True\n",
    "            break\n",
    "    if not win:\n",
    "        print('You loose. The number is', n)\n",
    "    \n",
    "    playing = 'yes' == input('Do you want to play again (yes/no)? ')"
   ]
  },
  {
   "cell_type": "code",
   "execution_count": null,
   "metadata": {},
   "outputs": [],
   "source": [
    "# Simulate a music player that plays a list of 10 songs. Each song has name and artist.\n",
    "# Program will ask user to enter song name and artist then play the song, except when artist is someone that user doesn't like.\n",
    "hate_artist = input('Enter artist you hate: ')\n",
    "for i in range(10):\n",
    "    song = input('Enter song name: ')\n",
    "    artist = input('Enter artist name: ')\n",
    "    if artist == hate_artist:\n",
    "        print('I don\\'t like this artist')\n",
    "        continue\n",
    "    print(f'Playing {song} by {artist}')"
   ]
  },
  {
   "cell_type": "code",
   "execution_count": null,
   "metadata": {},
   "outputs": [],
   "source": [
    "# Police is looking a criminal who hide in a building with 5 floors, each floor has 4 rooms.\n",
    "# They will search each room in each floor. If they don't find the criminal, they will move to next room.\n",
    "# If they find the criminal, they will stop searching.\n",
    "hidden_floor = rd.randint(1, 5)\n",
    "hidden_room = rd.randint(1, 4)\n",
    "found = False\n",
    "for floor in range(1, 6):\n",
    "    print(f'Searching floor {floor}')\n",
    "    for room in range(1, 5):\n",
    "        print(f'Searching room {room}')\n",
    "        if floor == hidden_floor and room == hidden_room:\n",
    "            print('Criminal found')\n",
    "            found = True\n",
    "            break # break the nearest loop (for room ...)\n",
    "    if found:\n",
    "        break # break the nearest loop (for floor ...)"
   ]
  },
  {
   "cell_type": "code",
   "execution_count": 40,
   "metadata": {},
   "outputs": [],
   "source": [
    "# Rock-paper-scissors game\n",
    "# Each game has maximum 5 rounds. User can choose rock, paper or scissors, computer will randomly choose one. Who win 3 rounds first will win the game.\n",
    "# After each game, ask user if they want to play again.\n",
    "def comp_choose():\n",
    "    return rd.choice(['rock', 'paper', 'scissors'])"
   ]
  },
  {
   "cell_type": "code",
   "execution_count": 47,
   "metadata": {},
   "outputs": [
    {
     "name": "stdout",
     "output_type": "stream",
     "text": [
      "rock\n"
     ]
    }
   ],
   "source": [
    "print(comp_choose())"
   ]
  }
 ],
 "metadata": {
  "kernelspec": {
   "display_name": "Python 3",
   "language": "python",
   "name": "python3"
  },
  "language_info": {
   "codemirror_mode": {
    "name": "ipython",
    "version": 3
   },
   "file_extension": ".py",
   "mimetype": "text/x-python",
   "name": "python",
   "nbconvert_exporter": "python",
   "pygments_lexer": "ipython3",
   "version": "3.12.4"
  }
 },
 "nbformat": 4,
 "nbformat_minor": 2
}
