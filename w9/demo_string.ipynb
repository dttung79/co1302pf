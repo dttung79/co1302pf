{
 "cells": [
  {
   "cell_type": "code",
   "execution_count": null,
   "metadata": {},
   "outputs": [
    {
     "name": "stdout",
     "output_type": "stream",
     "text": [
      "a = |            123|, b = |         123.46|\n",
      "a = |    1.23000e+02|, b = |    1.23456e+02|\n"
     ]
    }
   ],
   "source": [
    "# Format numbers\n",
    "# %d for integer\n",
    "# %f for float\n",
    "# %e for scientific notation\n",
    "a = 123\n",
    "b = 123.456\n",
    "print(f'a = |{a:15d}|, b = |{b:15.2f}|')    # number is aligned to the right\n",
    "print(f'a = |{a:15.5e}|, b = |{b:15.5e}|')"
   ]
  },
  {
   "cell_type": "code",
   "execution_count": null,
   "metadata": {},
   "outputs": [
    {
     "name": "stdout",
     "output_type": "stream",
     "text": [
      "s = |Hello, world        |\n"
     ]
    }
   ],
   "source": [
    "# Format string: %s\n",
    "s = 'Hello, world'\n",
    "print(f's = |{s:20s}|')   # string is aligned to the left"
   ]
  },
  {
   "cell_type": "code",
   "execution_count": 9,
   "metadata": {},
   "outputs": [
    {
     "name": "stdout",
     "output_type": "stream",
     "text": [
      "|Hello, world        |\n",
      "|        Hello, world|\n",
      "|    Hello, world    |\n"
     ]
    }
   ],
   "source": [
    "# align output manually\n",
    "print(f'|{s:<20s}|')    # left\n",
    "print(f'|{s:>20s}|')    # right\n",
    "print(f'|{s:^20s}|')    # center"
   ]
  },
  {
   "cell_type": "code",
   "execution_count": 17,
   "metadata": {},
   "outputs": [
    {
     "name": "stdout",
     "output_type": "stream",
     "text": [
      "+-----+----------+-----+----------+\n",
      "| No  | Product  |Price| Quantity |\n",
      "+-----+----------+-----+----------+\n",
      "|    1|  pencil  | 0.50|       100|\n",
      "+-----+----------+-----+----------+\n",
      "|    2|   pen    | 1.00|        75|\n",
      "+-----+----------+-----+----------+\n",
      "|    3| notebook | 2.50|        25|\n",
      "+-----+----------+-----+----------+\n",
      "|    4|  eraser  | 0.30|       120|\n",
      "+-----+----------+-----+----------+\n",
      "|    5|sharpener | 0.70|        10|\n",
      "+-----+----------+-----+----------+\n",
      "|    6|  ruler   | 1.20|        60|\n",
      "+-----+----------+-----+----------+\n"
     ]
    }
   ],
   "source": [
    "list_products = ['pencil', 'pen', 'notebook', 'eraser', 'sharpener', 'ruler']\n",
    "list_prices = [0.5, 1.0, 2.5, 0.3, 0.7, 1.2]\n",
    "list_quantities = [100, 75, 25, 120, 10, 60]\n",
    "# print header\n",
    "print('+-----+----------+-----+----------+')\n",
    "print(f'|{\"No\":^5s}|{\"Product\":^10s}|{\"Price\":^5s}|{\"Quantity\":^10s}|')\n",
    "print('+-----+----------+-----+----------+')\n",
    "\n",
    "for i in range(1, len(list_products) + 1):\n",
    "    print(f'|{i:5d}|{list_products[i-1]:^10s}|{list_prices[i-1]:5.2f}|{list_quantities[i-1]:10d}|')\n",
    "    print('+-----+----------+-----+----------+')"
   ]
  },
  {
   "cell_type": "code",
   "execution_count": 19,
   "metadata": {},
   "outputs": [
    {
     "name": "stdout",
     "output_type": "stream",
     "text": [
      "HELLO WORLD. ITS A BEAUTIFUL DAY\n",
      "hello world. its a beautiful day\n",
      "Hello World. Its A Beautiful Day\n",
      "HEllO wORld. ITS A BEAUTIFUL DAY\n",
      "Hello world. its a beautiful day\n"
     ]
    }
   ],
   "source": [
    "# string methods: upper, lower, title, swapcase, capitalize\n",
    "s = 'heLLo WorLD. its a beautiful day'\n",
    "print(s.upper())\n",
    "print(s.lower())\n",
    "print(s.title())\n",
    "print(s.swapcase())\n",
    "print(s.capitalize())"
   ]
  },
  {
   "cell_type": "code",
   "execution_count": 20,
   "metadata": {},
   "outputs": [
    {
     "name": "stdout",
     "output_type": "stream",
     "text": [
      "|    hello      world     |\n",
      "|hello      world|\n",
      "|hello      world     |\n",
      "|    hello      world|\n"
     ]
    }
   ],
   "source": [
    "# remove white spaces: strip, lstrip, rstrip\n",
    "s = '    hello      world     '\n",
    "print(f'|{s}|')\n",
    "print(f'|{s.strip()}|')\n",
    "print(f'|{s.lstrip()}|')\n",
    "print(f'|{s.rstrip()}|')"
   ]
  },
  {
   "cell_type": "code",
   "execution_count": 25,
   "metadata": {},
   "outputs": [
    {
     "name": "stdout",
     "output_type": "stream",
     "text": [
      "|    hello      world     |\n",
      "|hello world|\n"
     ]
    }
   ],
   "source": [
    "# to remove spaces in the middle\n",
    "s = '    hello      world     '\n",
    "print(f'|{s}|')\n",
    "s = ' '.join(s.split())\n",
    "print(f'|{s}|')"
   ]
  },
  {
   "cell_type": "code",
   "execution_count": 27,
   "metadata": {},
   "outputs": [
    {
     "name": "stdout",
     "output_type": "stream",
     "text": [
      "['1', '2', '3', '4']\n",
      "1\n"
     ]
    }
   ],
   "source": [
    "# split: split a string into a list of substrings\n",
    "s = '1,2,3,4'\n",
    "list_nums = s.split(',')\n",
    "print(list_nums)\n",
    "print(list_nums[0])"
   ]
  },
  {
   "cell_type": "code",
   "execution_count": 28,
   "metadata": {},
   "outputs": [
    {
     "name": "stdout",
     "output_type": "stream",
     "text": [
      "Domain name: google\n",
      "Domain type: com\n"
     ]
    }
   ],
   "source": [
    "url = 'https://www.google.com'\n",
    "# get domain name\n",
    "print(f'Domain name: {url.split('.')[-2]}')\n",
    "# get domain type\n",
    "print(f'Domain type: {url.split('.')[-1]}')"
   ]
  },
  {
   "cell_type": "code",
   "execution_count": 30,
   "metadata": {},
   "outputs": [
    {
     "name": "stdout",
     "output_type": "stream",
     "text": [
      "Don't * with me. You suck *er\n"
     ]
    }
   ],
   "source": [
    "# replace: replace a substring with another substring\n",
    "s = 'Don\\'t fuck with me. You suck fucker'\n",
    "s = s.replace('fuck', '*')\n",
    "print(s)"
   ]
  },
  {
   "cell_type": "code",
   "execution_count": 33,
   "metadata": {},
   "outputs": [
    {
     "name": "stdout",
     "output_type": "stream",
     "text": [
      "hello\n",
      "world\n"
     ]
    }
   ],
   "source": [
    "s = 'hello world'\n",
    "print(s[:5])\n",
    "print(s[-5:])"
   ]
  },
  {
   "cell_type": "code",
   "execution_count": 38,
   "metadata": {},
   "outputs": [
    {
     "name": "stdout",
     "output_type": "stream",
     "text": [
      "True\n",
      "False\n",
      "True\n",
      "----\n",
      "False\n",
      "True\n",
      "True\n",
      "----\n",
      "False\n",
      "False\n",
      "True\n"
     ]
    }
   ],
   "source": [
    "# string classification: \n",
    "# isalpha: check if string contains only alpha characters\n",
    "# isnumeric: check if string contains only digits\n",
    "# isalnum: check if string contains only alpha characters and digits\n",
    "s = 'helloworld'\n",
    "print(s.isalpha())\n",
    "print(s.isnumeric())\n",
    "print(s.isalnum())\n",
    "print('----')\n",
    "s = '123'\n",
    "print(s.isalpha())\n",
    "print(s.isnumeric())\n",
    "print(s.isalnum())\n",
    "print('----')\n",
    "s = 'abc123'\n",
    "print(s.isalpha())\n",
    "print(s.isnumeric())\n",
    "print(s.isalnum())\n"
   ]
  },
  {
   "cell_type": "code",
   "execution_count": 42,
   "metadata": {},
   "outputs": [
    {
     "name": "stdout",
     "output_type": "stream",
     "text": [
      "6\n",
      "True\n",
      "True\n",
      "3\n"
     ]
    }
   ],
   "source": [
    "# string search methods: find, startwith, endwith, count\n",
    "s = 'hello python world'\n",
    "print(s.find('python')) # return the first position where the subtring found\n",
    "print(s.startswith('hello'))\n",
    "print(s.endswith('world'))\n",
    "print(s.count('o'))"
   ]
  }
 ],
 "metadata": {
  "kernelspec": {
   "display_name": "Python 3",
   "language": "python",
   "name": "python3"
  },
  "language_info": {
   "codemirror_mode": {
    "name": "ipython",
    "version": 3
   },
   "file_extension": ".py",
   "mimetype": "text/x-python",
   "name": "python",
   "nbconvert_exporter": "python",
   "pygments_lexer": "ipython3",
   "version": "3.12.4"
  }
 },
 "nbformat": 4,
 "nbformat_minor": 2
}
