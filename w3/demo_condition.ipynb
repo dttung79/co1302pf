{
 "cells": [
  {
   "cell_type": "markdown",
   "metadata": {},
   "source": [
    "# conditional statement\n",
    "- To make decision in Python, we use conditional statement\n",
    "- Simple conditional statement is `if` statement\n",
    "- General format of `if` statement is\n",
    "```python\n",
    "if condition:\n",
    "    statement\n",
    "```\n",
    "- It contains following component:\n",
    "    -) `if` keyword\n",
    "    -) `condition` is a boolean expression\n",
    "    -) `:` colon\n",
    "    -) `statement` is a block of code that will be executed\n",
    "    -) Indentation is used to define block of code\n",
    "- Simple comparision is boolean expression\n",
    "    +) a == b: check a is equal to b\n",
    "    +) a != b: check a is not equal to b\n",
    "    +) a < b, a <= b: check a is less than or equal to b\n",
    "    +) a > b, a >= b: check a is greater than or equal to b\n",
    "- Common mistake:\n",
    "    +) Missing colon `:` at the end of `if` statement\n",
    "    +) Incorrect indentation\n",
    "    +) Using `=` instead of `==` for comparison"
   ]
  },
  {
   "cell_type": "code",
   "execution_count": 1,
   "metadata": {},
   "outputs": [
    {
     "name": "stdout",
     "output_type": "stream",
     "text": [
      "Area: 254.34, perimeter: 56.52\n"
     ]
    }
   ],
   "source": [
    "#redo calculate circle's area & perimeter with validation\n",
    "radius = int(input(\"Enter the radius of the circle: \"))\n",
    "PI = 3.14\n",
    "if radius > 0:\n",
    "    area = PI * radius ** 2\n",
    "    perimeter = 2 * PI * radius\n",
    "    print(f'Area: {area:.2f}, perimeter: {perimeter:.2f}')\n",
    "else:\n",
    "    print(\"Invalid input, radius must be positive\")"
   ]
  },
  {
   "cell_type": "markdown",
   "metadata": {},
   "source": [
    "# Defensive programming:\n",
    "Always check error case fisrt before doing main logic"
   ]
  },
  {
   "cell_type": "code",
   "execution_count": 2,
   "metadata": {},
   "outputs": [
    {
     "name": "stdout",
     "output_type": "stream",
     "text": [
      "Area: 254.34, perimeter: 56.52\n"
     ]
    }
   ],
   "source": [
    "if radius <= 0:\n",
    "    print(\"Invalid input, radius must be positive\")\n",
    "else:\n",
    "    area = PI * radius ** 2\n",
    "    perimeter = 2 * PI * radius\n",
    "    print(f'Area: {area:.2f}, perimeter: {perimeter:.2f}')"
   ]
  },
  {
   "cell_type": "code",
   "execution_count": 3,
   "metadata": {},
   "outputs": [
    {
     "name": "stdout",
     "output_type": "stream",
     "text": [
      "Area: 36, perimeter: 26\n"
     ]
    }
   ],
   "source": [
    "# Ex: redo calculate rectangle's area & perimeter with validation, using defensive programming\n",
    "width = int(input(\"Enter the width of the rectangle: \"))\n",
    "length = int(input(\"Enter the length of the rectangle: \"))\n",
    "if width <= 0 or length <= 0: # always check for invalid input first\n",
    "    print(\"Invalid input, width and length must be positive\")\n",
    "else:\n",
    "    area = width * length\n",
    "    perimeter = 2 * (width + length)\n",
    "    print(f'Area: {area}, perimeter: {perimeter}')"
   ]
  },
  {
   "cell_type": "code",
   "execution_count": 5,
   "metadata": {},
   "outputs": [
    {
     "name": "stdout",
     "output_type": "stream",
     "text": [
      "Invalid input, sides must be positive and form a triangle\n"
     ]
    }
   ],
   "source": [
    "# Calculate area / perimeter of a triangle, defensive programming\n",
    "a = int(input(\"Enter the length of side a: \"))\n",
    "b = int(input(\"Enter the length of side b: \"))\n",
    "c = int(input(\"Enter the length of side c: \"))\n",
    "if a <= 0 or b <= 0 or c <= 0 or a + b <= c or b + c <= a or c + a <= b:\n",
    "    print(\"Invalid input, sides must be positive and form a triangle\")\n",
    "else:\n",
    "    p = (a + b + c) / 2\n",
    "    s = (p * (p - a) * (p - b) * (p - c)) ** 0.5\n",
    "    print(f'Area: {s:.2f}, perimeter: {2 * p:.2f}')"
   ]
  },
  {
   "cell_type": "code",
   "execution_count": null,
   "metadata": {},
   "outputs": [],
   "source": [
    "# Split complicated expression, using nested if\n",
    "# nested if: inside the if block, we have another if block\n",
    "if a <= 0 or b <= 0 or c <= 0:\n",
    "    print('Invalid input, sides must be positive')\n",
    "else:\n",
    "    if a + b <= c or b + c <= a or c + a <= b:\n",
    "        print('Invalid input, sides must form a triangle')\n",
    "    else:\n",
    "        p = (a + b + c) / 2\n",
    "        s = (p * (p - a) * (p - b) * (p - c)) ** 0.5\n",
    "        print(f'Area: {s:.2f}, perimeter: {2 * p:.2f}')"
   ]
  },
  {
   "cell_type": "code",
   "execution_count": null,
   "metadata": {},
   "outputs": [],
   "source": [
    "# In case nested if is next to else, we can use elif to make the code more readable\n",
    "if a <= 0 or b <= 0 or c <= 0:\n",
    "    print('Invalid input, sides must be positive')\n",
    "elif a + b <= c or b + c <= a or c + a <= b:\n",
    "    print('Invalid input, sides must form a triangle')\n",
    "else:\n",
    "    p = (a + b + c) / 2\n",
    "    s = (p * (p - a) * (p - b) * (p - c)) ** 0.5\n",
    "    print(f'Area: {s:.2f}, perimeter: {2 * p:.2f}')"
   ]
  },
  {
   "cell_type": "code",
   "execution_count": null,
   "metadata": {},
   "outputs": [],
   "source": [
    "# if-elif-else: useful for checking multiple conditions in a range\n",
    "math = float(input(\"Enter your math score: \"))\n",
    "english = float(input(\"Enter your english score: \"))\n",
    "literature = float(input(\"Enter your literature score: \"))\n",
    "if   math < 0       or math > 10:       print('Invalid math score')\n",
    "elif english < 0    or english > 10:    print('Invalid english score')\n",
    "elif literature < 0 or literature > 10: print('Invalid literature score')\n",
    "else:\n",
    "    average = (math + english + literature) / 3\n",
    "    if average < 4.0:\n",
    "        print('Failed')\n",
    "    elif average < 6.0:   # don't need to check average >= 4.0 because it's already checked\n",
    "        print('Passed') \n",
    "    elif average < 8.0:\n",
    "        print('Merit')\n",
    "    else:\n",
    "        print('Distinction')"
   ]
  },
  {
   "cell_type": "code",
   "execution_count": 9,
   "metadata": {},
   "outputs": [
    {
     "name": "stdout",
     "output_type": "stream",
     "text": [
      "Income: $100000.0\n",
      "Your level is Diamond\n"
     ]
    }
   ],
   "source": [
    "price = float(input(\"Enter the price of the product: \"))\n",
    "quantity = int(input(\"Enter the quantity sold: \"))\n",
    "\n",
    "if price <= 0 or quantity <= 0:\n",
    "    print('Invalid input, price and quantity must be positive')\n",
    "else:\n",
    "    income = price * quantity\n",
    "    print(f'Income: ${income}')\n",
    "    if   income >= 50000:  print('Your level is Diamond')\n",
    "    elif income >= 20000 : print('Your level is Gold')\n",
    "    elif income >= 10000 : print('Your level is Silver')\n",
    "    else: print('Your level is Normal')"
   ]
  }
 ],
 "metadata": {
  "kernelspec": {
   "display_name": "Python 3",
   "language": "python",
   "name": "python3"
  },
  "language_info": {
   "codemirror_mode": {
    "name": "ipython",
    "version": 3
   },
   "file_extension": ".py",
   "mimetype": "text/x-python",
   "name": "python",
   "nbconvert_exporter": "python",
   "pygments_lexer": "ipython3",
   "version": "3.12.4"
  }
 },
 "nbformat": 4,
 "nbformat_minor": 2
}
