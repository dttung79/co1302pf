{
 "cells": [
  {
   "cell_type": "code",
   "execution_count": 1,
   "metadata": {},
   "outputs": [
    {
     "name": "stdout",
     "output_type": "stream",
     "text": [
      "0 1 2 3 4 "
     ]
    }
   ],
   "source": [
    "# Simple for loop syntax: for i in range(n)\n",
    "# range(n) generates a sequence of numbers from 0 to n-1 that will be assigned to i\n",
    "for i in range(5):\n",
    "    print(i, end=' ')  # print i followed by a space"
   ]
  },
  {
   "cell_type": "code",
   "execution_count": null,
   "metadata": {},
   "outputs": [],
   "source": [
    "# using for loop to repeat code block n times\n",
    "# in this example, i is not used in the code block\n",
    "for i in range(5):\n",
    "    print('Hello, world!')"
   ]
  },
  {
   "cell_type": "code",
   "execution_count": null,
   "metadata": {},
   "outputs": [],
   "source": [
    "# if don't need the variable i, use an underscore (_) as a placeholder\n",
    "for _ in range(5):\n",
    "    print('Hello, world!')"
   ]
  },
  {
   "cell_type": "code",
   "execution_count": 6,
   "metadata": {},
   "outputs": [
    {
     "name": "stdout",
     "output_type": "stream",
     "text": [
      "1 2 3 4 5 \n",
      "1 3 5 7 9 "
     ]
    }
   ],
   "source": [
    "# other form of range: \n",
    "# range(1, n+1) generates a sequence of numbers from 1 to n\n",
    "for i in range(1, 6):\n",
    "    print(i, end=' ')\n",
    "print()\n",
    "# range(1, n, 2) generates a sequence of odd numbers from 1 to n\n",
    "for i in range(1, 10, 2):\n",
    "    print(i, end=' ')"
   ]
  },
  {
   "cell_type": "code",
   "execution_count": 7,
   "metadata": {},
   "outputs": [
    {
     "name": "stdout",
     "output_type": "stream",
     "text": [
      "Sum from 1 to 10: 55\n"
     ]
    }
   ],
   "source": [
    "n = int(input('Enter n: '))\n",
    "s = 0\n",
    "\n",
    "for i in range(1, n+1):\n",
    "    s = s + i   # shorter: s += i\n",
    "\n",
    "print(f'Sum from 1 to {n}: {s}')"
   ]
  },
  {
   "cell_type": "code",
   "execution_count": 8,
   "metadata": {},
   "outputs": [
    {
     "name": "stdout",
     "output_type": "stream",
     "text": [
      "10! = 3628800\n"
     ]
    }
   ],
   "source": [
    "# Ex1: Calculate product of numbers from 1 to n\n",
    "n = int(input('Enter n: '))\n",
    "p = 1\n",
    "\n",
    "for i in range(1, n+1):\n",
    "    p *= i  # short form of p = p * i\n",
    "\n",
    "print(f'{n}! = {p}')"
   ]
  },
  {
   "cell_type": "code",
   "execution_count": 10,
   "metadata": {},
   "outputs": [
    {
     "name": "stdout",
     "output_type": "stream",
     "text": [
      "Sum of evens from 1 to 5: 6\n"
     ]
    }
   ],
   "source": [
    "# Ex2: Calculate sum of even numbers from 1 to n\n",
    "n = int(input('Enter n: '))\n",
    "s = 0\n",
    "\n",
    "for i in range(1, n+1):\n",
    "    if i % 2 == 0:\n",
    "        s = s + i   \n",
    "\n",
    "print(f'Sum of evens from 1 to {n}: {s}')"
   ]
  },
  {
   "cell_type": "code",
   "execution_count": 11,
   "metadata": {},
   "outputs": [
    {
     "name": "stdout",
     "output_type": "stream",
     "text": [
      "Sum of evens from 1 to 5: 6\n"
     ]
    }
   ],
   "source": [
    "# another solution: using range(2, n+1, 2)\n",
    "s = 0\n",
    "for i in range(0, n+1, 2):\n",
    "    s += i\n",
    "\n",
    "print(f'Sum of evens from 1 to {n}: {s}')"
   ]
  },
  {
   "cell_type": "code",
   "execution_count": null,
   "metadata": {},
   "outputs": [],
   "source": [
    "# Ask user to enter 5 numbers. Count how many odd numbers and even numbers\n",
    "count_odd = 0\n",
    "for _ in range(5):\n",
    "    num = int(input('Enter a number: '))\n",
    "    if num % 2 != 0:\n",
    "        count_odd += 1\n",
    "print(f'Number of odd numbers: {count_odd}')\n",
    "print(f'Number of even numbers: {5 - count_odd}')"
   ]
  }
 ],
 "metadata": {
  "kernelspec": {
   "display_name": "Python 3",
   "language": "python",
   "name": "python3"
  },
  "language_info": {
   "codemirror_mode": {
    "name": "ipython",
    "version": 3
   },
   "file_extension": ".py",
   "mimetype": "text/x-python",
   "name": "python",
   "nbconvert_exporter": "python",
   "pygments_lexer": "ipython3",
   "version": "3.12.4"
  }
 },
 "nbformat": 4,
 "nbformat_minor": 2
}
