{
 "cells": [
  {
   "cell_type": "code",
   "execution_count": null,
   "metadata": {},
   "outputs": [],
   "source": [
    "# Open a file to read:\n",
    "# - filename: the name of the file to open\n",
    "# - mode: the mode to open the file (read or write)\n",
    "f = open('hello.txt', 'r') # r is read mode\n",
    "# read all contents of the file\n",
    "content = f.read()\n",
    "print(content)\n",
    "# close the file\n",
    "f.close()"
   ]
  },
  {
   "cell_type": "code",
   "execution_count": null,
   "metadata": {},
   "outputs": [],
   "source": [
    "# read content to a list\n",
    "f = open('hello.txt', 'r')\n",
    "lines = f.readlines()   # content is save to a list of lines\n",
    "for li in lines:\n",
    "    print(li.strip())   # strip() removes the newline character\n",
    "\n",
    "f.close()"
   ]
  },
  {
   "cell_type": "code",
   "execution_count": 4,
   "metadata": {},
   "outputs": [
    {
     "name": "stdout",
     "output_type": "stream",
     "text": [
      "Hello\n",
      "Hello World\n",
      "Hello Python World\n"
     ]
    }
   ],
   "source": [
    "# read content line by line\n",
    "f = open('hello.txt', 'r')\n",
    "for line in f:\n",
    "    print(line.strip())\n",
    "f.close()"
   ]
  },
  {
   "cell_type": "code",
   "execution_count": 5,
   "metadata": {},
   "outputs": [
    {
     "name": "stdout",
     "output_type": "stream",
     "text": [
      "Agencies with Authority:\n",
      "The Triboro Bridge and Tunnel Authority\n",
      "The Metropolitan Transit Authority\n",
      "The Port Authority of New York and New Jersey\n"
     ]
    }
   ],
   "source": [
    "f = open('agencies.txt', 'r')\n",
    "agencies = f.readlines()\n",
    "\n",
    "print('Agencies with Authority:')\n",
    "for agency in agencies:\n",
    "    if 'Authority' in agency:\n",
    "        print(agency.strip())\n",
    "\n",
    "f.close()"
   ]
  },
  {
   "cell_type": "code",
   "execution_count": 6,
   "metadata": {},
   "outputs": [
    {
     "name": "stdout",
     "output_type": "stream",
     "text": [
      "Agencies with Authority:\n",
      "The Triboro Bridge and Tunnel Authority\n",
      "Housing and Urban Development\n",
      "The Port Authority of New York and New Jersey\n",
      "Number of complex agencies: 3\n"
     ]
    }
   ],
   "source": [
    "# Ex1: Count how many agencies having 'and' in their names\n",
    "f = open('agencies.txt', 'r')\n",
    "agencies = f.readlines()\n",
    "count = 0\n",
    "print('Agencies with Authority:')\n",
    "for agency in agencies:\n",
    "    if ' and ' in agency:\n",
    "        print(agency.strip())\n",
    "        count += 1\n",
    "print(f'Number of complex agencies: {count}')\n",
    "f.close()"
   ]
  },
  {
   "cell_type": "code",
   "execution_count": 9,
   "metadata": {},
   "outputs": [
    {
     "name": "stdout",
     "output_type": "stream",
     "text": [
      "Number of authors that do not use gmail: 145\n"
     ]
    }
   ],
   "source": [
    "# Ex2: Count how many authors that do not use gmail as their email\n",
    "f = open('authors.txt', 'r')\n",
    "authors = f.readlines()\n",
    "count_gmail = 0\n",
    "for author in authors:\n",
    "    if '@' in author and '@gmail' not in author:\n",
    "        count_gmail += 1\n",
    "print(f'Number of authors that do not use gmail: {count_gmail}')"
   ]
  },
  {
   "cell_type": "code",
   "execution_count": null,
   "metadata": {},
   "outputs": [],
   "source": [
    "# Print all authors that use gmail in 2 columns format\n",
    "# For example\n",
    "# Author                Email\n",
    "# Paul Bakaus           paul.bakaus@gmail.com\n",
    "# Richard Worth         rdworth@gmail.com\n",
    "# ...\n",
    "f = open('authors.txt', 'r')\n",
    "authors = f.readlines()\n",
    "print(f'{\"Author\":20}{\"Email\":20}')\n",
    "for author in authors:\n",
    "    if '@gmail' in author:\n",
    "        name = author.split(' <')[0]\n",
    "        email = author.split('<')[1].split('>')[0]\n",
    "        print(f'{name:20}{email:20}')\n",
    "\n",
    "f.close()"
   ]
  },
  {
   "cell_type": "code",
   "execution_count": 16,
   "metadata": {},
   "outputs": [
    {
     "name": "stdout",
     "output_type": "stream",
     "text": [
      "Name                          Author                   Price               \n",
      "Harry Potter                  JK Rowling               1000                \n",
      "Java Programming              Mr. Tung                 200                 \n",
      "Fly over the Cuckoo's Nest    Ken Kesey                300                 \n",
      "The Great Gatsby              F. Scott Fitzgerald      400                 \n"
     ]
    }
   ],
   "source": [
    "# Read CSV file manually\n",
    "f = open('books.csv', 'r')\n",
    "header = f.readline().strip().split(',')    # read the header and split by comma\n",
    "print(f'{header[0]:30}{header[1]:25}{header[2]:20}')\n",
    "\n",
    "for row in f:\n",
    "    name = row.strip().split(',')[0]\n",
    "    author = row.strip().split(',')[1]\n",
    "    price = row.strip().split(',')[2]\n",
    "    print(f'{name:30}{author:25}{price:20}')\n",
    "f.close()"
   ]
  },
  {
   "cell_type": "code",
   "execution_count": null,
   "metadata": {},
   "outputs": [
    {
     "name": "stdout",
     "output_type": "stream",
     "text": [
      "Name                          Author                   Price               \n",
      "Harry Potter                  JK Rowling               1000                \n",
      "Java Programming              Mr. Tung                 200                 \n",
      "Fly over the Cuckoo's Nest    Ken Kesey                300                 \n",
      "The Great Gatsby              F. Scott Fitzgerald      400                 \n"
     ]
    }
   ],
   "source": [
    "import csv\n",
    "f = open('books.csv', 'r')\n",
    "csv_reader = csv.reader(f)  # create a csv reader object\n",
    "header = next(csv_reader)   # read the header\n",
    "print(f'{header[0]:30}{header[1]:25}{header[2]:20}')\n",
    "for row in csv_reader:      # for each row in the csv file\n",
    "    name = row[0]\n",
    "    author = row[1]\n",
    "    price = row[2]\n",
    "    print(f'{name:30}{author:25}{price:20}')\n",
    "f.close()"
   ]
  }
 ],
 "metadata": {
  "kernelspec": {
   "display_name": "Python 3",
   "language": "python",
   "name": "python3"
  },
  "language_info": {
   "codemirror_mode": {
    "name": "ipython",
    "version": 3
   },
   "file_extension": ".py",
   "mimetype": "text/x-python",
   "name": "python",
   "nbconvert_exporter": "python",
   "pygments_lexer": "ipython3",
   "version": "3.12.4"
  }
 },
 "nbformat": 4,
 "nbformat_minor": 2
}
