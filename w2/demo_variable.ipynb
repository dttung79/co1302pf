{
 "cells": [
  {
   "cell_type": "code",
   "execution_count": null,
   "metadata": {},
   "outputs": [],
   "source": []
  },
  {
   "cell_type": "markdown",
   "metadata": {},
   "source": [
    "# introduce variable in programming\n",
    "## variable contains:\n",
    "- name: the name of the variable, describing what the variable is used for\n",
    "- value: the value of the variable, the data that the variable holds\n",
    "- address: the address of the variable, the location in memory where the variable is stored"
   ]
  },
  {
   "cell_type": "code",
   "execution_count": 1,
   "metadata": {},
   "outputs": [
    {
     "name": "stdout",
     "output_type": "stream",
     "text": [
      "100\n",
      "4358910040\n"
     ]
    }
   ],
   "source": [
    "length = 100 # declare a vriable length and assign it the value 100\n",
    "print(length) # print the value of length\n",
    "print(id(length)) # print the memory address of length"
   ]
  },
  {
   "cell_type": "markdown",
   "metadata": {},
   "source": [
    "# Naming variables\n",
    "## Rules:\n",
    "- Start: only letters or underscore (A-Z, a-z, _)\n",
    "- Contain: letters, numbers, underscore (A-Z, a-z, 0-9, _)\n",
    "- Case sensitive: 'name', 'NAME and 'Name' are different variables\n",
    "- Avoid using python identifiers as variable names (int, if, turtle, etc.)\n",
    "## Convention:\n",
    "- Use lowercase for variable names: name, not Name\n",
    "- Separate words: using underscore: first_name, not firstname nor FirstName\n",
    "- Use meaningful names: total_price, not t or p\n",
    "- Common abbreviations: num_, str_, GDP, PI, etc.\n",
    "- Avoid too short or too long names."
   ]
  },
  {
   "cell_type": "code",
   "execution_count": 2,
   "metadata": {},
   "outputs": [
    {
     "name": "stdout",
     "output_type": "stream",
     "text": [
      "10 <class 'int'>\n",
      "10.0 <class 'float'>\n",
      "hello <class 'str'>\n",
      "True <class 'bool'>\n"
     ]
    }
   ],
   "source": [
    "# common types: int, float, string, boolean\n",
    "a = 10      # integer\n",
    "print(a, type(a))\n",
    "b = 10.0    # float\n",
    "print(b, type(b))\n",
    "s = 'hello' # string\n",
    "print(s, type(s))\n",
    "t = True    # boolean (True/False)\n",
    "print(t, type(t))"
   ]
  },
  {
   "cell_type": "code",
   "execution_count": 3,
   "metadata": {},
   "outputs": [
    {
     "name": "stdout",
     "output_type": "stream",
     "text": [
      "10 <class 'int'>\n",
      "10.0 <class 'float'>\n",
      "10 <class 'str'>\n"
     ]
    }
   ],
   "source": [
    "# dynamic typing: you can change the type of a variable based on the value assigned to it\n",
    "a = 10    # integer\n",
    "print(a, type(a))\n",
    "a = 10.0  # float\n",
    "print(a, type(a))\n",
    "a = '10'  # string\n",
    "print(a, type(a))"
   ]
  },
  {
   "cell_type": "code",
   "execution_count": 5,
   "metadata": {},
   "outputs": [
    {
     "name": "stdout",
     "output_type": "stream",
     "text": [
      "15\n"
     ]
    }
   ],
   "source": [
    "# type casting: converting one type to another\n",
    "a = input('Enter a number: ')\n",
    "a = int(a)  # convert string to integer\n",
    "print(a+5)"
   ]
  },
  {
   "cell_type": "code",
   "execution_count": 7,
   "metadata": {},
   "outputs": [
    {
     "name": "stdout",
     "output_type": "stream",
     "text": [
      "You are 24 years old\n"
     ]
    }
   ],
   "source": [
    "birth_year = int(input('Enter your birth year: '))\n",
    "age = 2024 - birth_year\n",
    "print('You are ' + str(age) + ' years old') # convert integer to string"
   ]
  },
  {
   "cell_type": "code",
   "execution_count": 8,
   "metadata": {},
   "outputs": [
    {
     "name": "stdout",
     "output_type": "stream",
     "text": [
      "You are 24 years old\n",
      "You are 24 years old\n",
      "You are 24 years old\n"
     ]
    }
   ],
   "source": [
    "# ouput in different ways\n",
    "print('You are', age, 'years old')           # print different values\n",
    "print('You are ' + str(age) + ' years old')  # concatenate strings to print\n",
    "print(f'You are {age} years old')            # formatted string"
   ]
  },
  {
   "cell_type": "code",
   "execution_count": 11,
   "metadata": {},
   "outputs": [
    {
     "name": "stdout",
     "output_type": "stream",
     "text": [
      "hello world\n",
      "hellohellohello\n",
      "True\n",
      "False\n"
     ]
    }
   ],
   "source": [
    "# String operations: +, *, in, not in\n",
    "s1 = 'hello'\n",
    "s2 = ' world'\n",
    "print(s1 + s2) # concatenate strings\n",
    "print(s1 * 3)  # repeat string 3 times\n",
    "print('hell' in s1) # check if 'hell' is in s1\n",
    "print('Hello' in 'hello world') # check if 'Hello' is in 'hello world'"
   ]
  },
  {
   "cell_type": "code",
   "execution_count": 14,
   "metadata": {},
   "outputs": [
    {
     "name": "stdout",
     "output_type": "stream",
     "text": [
      "10 + 3 = 13\n",
      "10 - 3 = 7\n",
      "10 * 3 = 30\n",
      "10 / 3 = 3.3333333333333335\n",
      "10 // 3 = 3\n",
      "10 % 3 = 1\n",
      "10 ** 3 = 1000\n",
      "sqrt(10) = 3.1622776601683795\n"
     ]
    }
   ],
   "source": [
    "# Number operations: +, -, *, /, //, %, **\n",
    "a = 10\n",
    "b = 3\n",
    "print(f'{a} + {b} = {a+b}') # addition\n",
    "print(f'{a} - {b} = {a-b}') # subtraction\n",
    "print(f'{a} * {b} = {a*b}') # multiplication\n",
    "print(f'{a} / {b} = {a/b}') # division\n",
    "print(f'{a} // {b} = {a//b}') # floor division, get integer part of the division\n",
    "print(f'{a} % {b} = {a%b}') # modulus, get the remainder\n",
    "print(f'{a} ** {b} = {a**b}') # exponentiation\n",
    "print(f'sqrt({a}) = {a**0.5}') # square root"
   ]
  }
 ],
 "metadata": {
  "kernelspec": {
   "display_name": "Python 3",
   "language": "python",
   "name": "python3"
  },
  "language_info": {
   "codemirror_mode": {
    "name": "ipython",
    "version": 3
   },
   "file_extension": ".py",
   "mimetype": "text/x-python",
   "name": "python",
   "nbconvert_exporter": "python",
   "pygments_lexer": "ipython3",
   "version": "3.12.4"
  }
 },
 "nbformat": 4,
 "nbformat_minor": 2
}
