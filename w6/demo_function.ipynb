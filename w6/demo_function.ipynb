{
 "cells": [
  {
   "cell_type": "code",
   "execution_count": 1,
   "metadata": {},
   "outputs": [
    {
     "name": "stdout",
     "output_type": "stream",
     "text": [
      "*** - *** - *** - ***\n",
      "*** - *** - *** - ***\n",
      "*** - *** - *** - ***\n",
      "*** - *** - *** - ***\n"
     ]
    }
   ],
   "source": [
    "# draw a pattern to the screen\n",
    "print('*** - *** - *** - ***')\n",
    "print('*** - *** - *** - ***')\n",
    "print('*** - *** - *** - ***')\n",
    "print('*** - *** - *** - ***')"
   ]
  },
  {
   "cell_type": "code",
   "execution_count": null,
   "metadata": {},
   "outputs": [],
   "source": [
    "symbol = '$'\n",
    "connect = '+'\n",
    "print(f'{symbol}{symbol}{symbol} {connect} {symbol}{symbol}{symbol} {connect} {symbol}{symbol}{symbol} {connect} {symbol}{symbol}{symbol}')\n",
    "print(f'{symbol}{symbol}{symbol} {connect} {symbol}{symbol}{symbol} {connect} {symbol}{symbol}{symbol} {connect} {symbol}{symbol}{symbol}')\n",
    "print(f'{symbol}{symbol}{symbol} {connect} {symbol}{symbol}{symbol} {connect} {symbol}{symbol}{symbol} {connect} {symbol}{symbol}{symbol}')\n",
    "print(f'{symbol}{symbol}{symbol} {connect} {symbol}{symbol}{symbol} {connect} {symbol}{symbol}{symbol} {connect} {symbol}{symbol}{symbol}')"
   ]
  },
  {
   "cell_type": "code",
   "execution_count": null,
   "metadata": {},
   "outputs": [],
   "source": [
    "# using a loop to reuse the code\n",
    "symbol = '$'\n",
    "connect = ' + '\n",
    "height = 8\n",
    "width = 6\n",
    "line = symbol * width + connect\n",
    "line = line * width + symbol * width\n",
    "for _ in range(height):\n",
    "    print(line)"
   ]
  },
  {
   "cell_type": "code",
   "execution_count": null,
   "metadata": {},
   "outputs": [],
   "source": [
    "# Function: is a block of code that only runs when it is called\n",
    "# Define a function\n",
    "# def function_name(parameters):\n",
    "#     code block\n",
    "# - def: keyword to define a function\n",
    "# - function_name: name of the function, should be descriptive\n",
    "# - parameters: input to the function, optional\n",
    "# - code block: code that runs when the function is called"
   ]
  },
  {
   "cell_type": "code",
   "execution_count": 21,
   "metadata": {},
   "outputs": [],
   "source": [
    "# define a function name 'hello' without any parameters\n",
    "def hello():\n",
    "    print('Hell, World!')"
   ]
  },
  {
   "cell_type": "code",
   "execution_count": 22,
   "metadata": {},
   "outputs": [
    {
     "name": "stdout",
     "output_type": "stream",
     "text": [
      "Hell, World!\n",
      "Hell, World!\n"
     ]
    }
   ],
   "source": [
    "# call function hello\n",
    "hello()\n",
    "hello()"
   ]
  },
  {
   "cell_type": "code",
   "execution_count": 24,
   "metadata": {},
   "outputs": [
    {
     "name": "stdout",
     "output_type": "stream",
     "text": [
      "Hello, John!\n",
      "Hello, Alice!\n",
      "Hello, Bob!\n"
     ]
    }
   ],
   "source": [
    "# define a function with parameter\n",
    "def hello(name):\n",
    "    print(f'Hello, {name}!')\n",
    "\n",
    "hello('John')\n",
    "hello('Alice')\n",
    "name = 'Bob'\n",
    "hello(name)"
   ]
  },
  {
   "cell_type": "code",
   "execution_count": 25,
   "metadata": {},
   "outputs": [],
   "source": [
    "def draw_pattern(symbol, connect, width, height):\n",
    "    line = symbol * width + connect\n",
    "    line = line * width + symbol * width\n",
    "    for _ in range(height):\n",
    "        print(line)"
   ]
  },
  {
   "cell_type": "code",
   "execution_count": 28,
   "metadata": {},
   "outputs": [
    {
     "name": "stdout",
     "output_type": "stream",
     "text": [
      "$$$ + $$$ + $$$ + $$$\n",
      "$$$ + $$$ + $$$ + $$$\n"
     ]
    }
   ],
   "source": [
    "# Call draw_pattern function, pass in the arguments to the function\n",
    "draw_pattern('$', ' + ', 3, 2)"
   ]
  },
  {
   "cell_type": "code",
   "execution_count": null,
   "metadata": {},
   "outputs": [],
   "source": [
    "# A function to calculate the area of a circle\n",
    "def circle_area(radius):\n",
    "    area = 3.14159 * radius ** 2\n",
    "    print(f'Area of circle with radius {radius} is {area:.2f}')\n",
    "\n",
    "circle_area(3)      # call function, passing literal value as argument\n",
    "radius = 5\n",
    "circle_area(radius) # call function, passing variable as argument"
   ]
  },
  {
   "cell_type": "code",
   "execution_count": 30,
   "metadata": {},
   "outputs": [],
   "source": [
    "# Ex1: Write a function to calculate the area of a rectangle\n",
    "def rectangle_area(width, height):\n",
    "    area = width * height\n",
    "    print(f'Area of rectangle ({width} x {height}) is {area}')"
   ]
  },
  {
   "cell_type": "code",
   "execution_count": 33,
   "metadata": {},
   "outputs": [
    {
     "name": "stdout",
     "output_type": "stream",
     "text": [
      "Area of rectangle (3 x 4) is 12\n",
      "Area of rectangle (4 x 3) is 12\n",
      "Area of rectangle (4 x 5) is 20\n"
     ]
    },
    {
     "ename": "TypeError",
     "evalue": "rectangle_area() missing 1 required positional argument: 'height'",
     "output_type": "error",
     "traceback": [
      "\u001b[0;31m---------------------------------------------------------------------------\u001b[0m",
      "\u001b[0;31mTypeError\u001b[0m                                 Traceback (most recent call last)",
      "Cell \u001b[0;32mIn[33], line 6\u001b[0m\n\u001b[1;32m      4\u001b[0m h \u001b[38;5;241m=\u001b[39m \u001b[38;5;241m5\u001b[39m\n\u001b[1;32m      5\u001b[0m rectangle_area(w, h)\n\u001b[0;32m----> 6\u001b[0m \u001b[43mrectangle_area\u001b[49m\u001b[43m(\u001b[49m\u001b[38;5;241;43m3\u001b[39;49m\u001b[43m)\u001b[49m \u001b[38;5;66;03m# error, missing argument\u001b[39;00m\n",
      "\u001b[0;31mTypeError\u001b[0m: rectangle_area() missing 1 required positional argument: 'height'"
     ]
    }
   ],
   "source": [
    "rectangle_area(3, 4)\n",
    "rectangle_area(4, 3) # same area but different rectangle\n",
    "w = 4\n",
    "h = 5\n",
    "rectangle_area(w, h)\n",
    "rectangle_area(3) # error, missing argument"
   ]
  },
  {
   "cell_type": "code",
   "execution_count": null,
   "metadata": {},
   "outputs": [],
   "source": [
    "# Function with return value\n",
    "# def function_name(parameters):\n",
    "#     code block\n",
    "#     return value\n",
    "# - return: keyword to return a value from a function to outside\n",
    "\n",
    "# when call this function, we need to store the return value into a variable\n",
    "# val = function_name(parameters)"
   ]
  },
  {
   "cell_type": "code",
   "execution_count": 34,
   "metadata": {},
   "outputs": [
    {
     "name": "stdout",
     "output_type": "stream",
     "text": [
      "Area of circle with radius 3 is 28.27\n"
     ]
    }
   ],
   "source": [
    "def circle_area(radius):\n",
    "    area = 3.14159 * radius ** 2\n",
    "    return area\n",
    "\n",
    "area = circle_area(3)\n",
    "print(f'Area of circle with radius 3 is {area:.2f}')"
   ]
  },
  {
   "cell_type": "code",
   "execution_count": 37,
   "metadata": {},
   "outputs": [
    {
     "name": "stdout",
     "output_type": "stream",
     "text": [
      "Area of rectangle (3 x 4) is 12\n",
      "Same area\n"
     ]
    }
   ],
   "source": [
    "# Ex2: rewrite the rectangle_area function to return the area\n",
    "def rectangle_area(width, height):\n",
    "    area = width * height\n",
    "    return area\n",
    "\n",
    "area = rectangle_area(3, 4)\n",
    "print(f'Area of rectangle (3 x 4) is {area}')\n",
    "w1 = 3\n",
    "h1 = 4\n",
    "\n",
    "w2 = 4\n",
    "h2 = 3\n",
    "\n",
    "a1 = rectangle_area(w1, h1)\n",
    "a2 = rectangle_area(w2, h2)\n",
    "\n",
    "if a1 == a2:\n",
    "    print('Same area')"
   ]
  },
  {
   "cell_type": "code",
   "execution_count": 38,
   "metadata": {},
   "outputs": [
    {
     "name": "stdout",
     "output_type": "stream",
     "text": [
      "5 x 1 = 5\n",
      "5 x 2 = 10\n",
      "5 x 3 = 15\n",
      "5 x 4 = 20\n",
      "5 x 5 = 25\n",
      "5 x 6 = 30\n",
      "5 x 7 = 35\n",
      "5 x 8 = 40\n",
      "5 x 9 = 45\n",
      "5 x 10 = 50\n"
     ]
    }
   ],
   "source": [
    "# Ex3: Write a function to print multiplication table of a number n\n",
    "def mult_table(n):\n",
    "    for i in range(1, 11):\n",
    "        print(f'{n} x {i} = {n * i}')\n",
    "\n",
    "mult_table(5)"
   ]
  },
  {
   "cell_type": "code",
   "execution_count": 40,
   "metadata": {},
   "outputs": [
    {
     "name": "stdout",
     "output_type": "stream",
     "text": [
      "* * * * * \n",
      "* * * * * \n",
      "* * * * * \n"
     ]
    }
   ],
   "source": [
    "# Re-write following code using function\n",
    "# decide how many parameters are needed\n",
    "n = 5\n",
    "m = 3\n",
    "for i in range(m):\n",
    "    for j in range(n):\n",
    "        print('*', end=' ')\n",
    "    print()"
   ]
  },
  {
   "cell_type": "code",
   "execution_count": 42,
   "metadata": {},
   "outputs": [
    {
     "name": "stdout",
     "output_type": "stream",
     "text": [
      "* * * * * \n",
      "* * * * * \n",
      "* * * * * \n",
      "\n",
      "$ $ $ \n",
      "$ $ $ \n",
      "$ $ $ \n",
      "$ $ $ \n",
      "$ $ $ \n"
     ]
    }
   ],
   "source": [
    "def draw_rectangle(m, n, symbol):\n",
    "    for i in range(m):\n",
    "        for j in range(n):\n",
    "            print(symbol, end=' ')\n",
    "        print()\n",
    "\n",
    "draw_rectangle(3, 5, '*')\n",
    "print()\n",
    "draw_rectangle(5, 3, '$')"
   ]
  },
  {
   "cell_type": "code",
   "execution_count": 44,
   "metadata": {},
   "outputs": [
    {
     "name": "stdout",
     "output_type": "stream",
     "text": [
      "* \n",
      "* * \n",
      "* * * \n",
      "* * * * \n"
     ]
    }
   ],
   "source": [
    "# Ex4: Write a function to draw a triangle\n",
    "# *\n",
    "# * *\n",
    "# * * *\n",
    "# * * * *\n",
    "def draw_triangle(n, symbol):\n",
    "    for i in range(1, n + 1):\n",
    "        print((symbol + ' ') * i)\n",
    "    \n",
    "draw_triangle(4, '*')"
   ]
  },
  {
   "cell_type": "code",
   "execution_count": null,
   "metadata": {},
   "outputs": [],
   "source": [
    "# Ex5: Write a function to determine rank of student based on average of 3 grades: english, math and science. Rank is determined as follows:\n",
    "# - average >= 80: Distinction\n",
    "# - average >= 60: Merit\n",
    "# - average >= 40: Pass\n",
    "# - average < 40: Fail\n",
    "# Ask user to input 3 grades, calculate average and determine rank. Ask if user wants to continue or not\n",
    "\n",
    "def get_rank(english, math, science):\n",
    "    avg = (english + math + science) / 3\n",
    "    if avg >= 80:   return 'Distinction'\n",
    "    elif avg >= 60: return 'Merit'\n",
    "    elif avg >= 40: return 'Pass'\n",
    "    else:           return 'Fail'\n",
    "\n",
    "entering = True\n",
    "while entering:\n",
    "    english = int(input('Enter English grade: '))\n",
    "    math = int(input('Enter Math grade: '))\n",
    "    science = int(input('Enter Science grade: '))\n",
    "    rank = get_rank(english, math, science)\n",
    "    print(f'Rank: {rank}')\n",
    "\n",
    "    choice = input('Do you want to continue? (y/n): ')\n",
    "    entering = choice.lower() == 'y'"
   ]
  },
  {
   "cell_type": "code",
   "execution_count": 45,
   "metadata": {},
   "outputs": [
    {
     "name": "stdout",
     "output_type": "stream",
     "text": [
      "a = 20, b = 6\n",
      "a = 5, b = 10\n"
     ]
    }
   ],
   "source": [
    "# Scope of variable in a function\n",
    "a = 5\n",
    "b = 10\n",
    "def my_function(b):\n",
    "    a = 20\n",
    "    b = b * 2\n",
    "    print(f'a = {a}, b = {b}')\n",
    "\n",
    "my_function(3)\n",
    "print(f'a = {a}, b = {b}')"
   ]
  },
  {
   "cell_type": "code",
   "execution_count": null,
   "metadata": {},
   "outputs": [],
   "source": [
    "# Ex6: Write a program that convert temparature from Celcius to Farenheit\n",
    "# Ask user to enter temperature in Celcius then convert to Farenheit. Then ask if user to convert another temperature. If use choose 'yes' then do it again.\n",
    "def convert(celcius):\n",
    "    farenheit = celcius * 9 / 5 + 32\n",
    "    return farenheit\n",
    "\n",
    "converting = True\n",
    "while converting:\n",
    "    celcius = float(input('Enter temperature in Celcius: '))\n",
    "    farenheit = convert(celcius)\n",
    "    print(f'Temperature in Farenheit: {farenheit:.2f}')\n",
    "\n",
    "    choice = input('Do you want to convert another temperature? (y/n): ')\n",
    "    converting = choice.lower() == 'y'"
   ]
  },
  {
   "cell_type": "code",
   "execution_count": 47,
   "metadata": {},
   "outputs": [],
   "source": [
    "# Rock-paper-scissors game\n",
    "# Each game has maximum 5 rounds. User can choose rock, paper or scissors, computer will randomly choose one. Who win 3 rounds first will win the game.\n",
    "# After each game, ask user if they want to play again.\n",
    "DRAW = 2\n",
    "USER_WIN = 1\n",
    "COMP_WIN = 0\n",
    "\n",
    "import random as rd\n",
    "def comp_choose():\n",
    "    return rd.choice(['rock', 'paper', 'scissors'])\n",
    "\n",
    "def user_choose():\n",
    "    choice = input('Choose rock, paper or scissors: ') # should validate user input\n",
    "    return choice.lower()\n",
    "\n",
    "def who_win(user_choice, comp_choice):\n",
    "    if user_choice == comp_choice:\n",
    "        return DRAW\n",
    "    if user_choice == 'rock' and comp_choice == 'scissors':\n",
    "        return USER_WIN\n",
    "    if user_choice == 'scissors' and comp_choice == 'paper':\n",
    "        return USER_WIN\n",
    "    if user_choice == 'paper' and comp_choice == 'rock':\n",
    "        return USER_WIN\n",
    "    \n",
    "    return COMP_WIN\n",
    "\n",
    "def handle_result(code, com_wins, user_wins):\n",
    "    if code == DRAW:\n",
    "        print('Draw round')\n",
    "    elif code == USER_WIN:\n",
    "        print('User win this round')\n",
    "        user_wins += 1\n",
    "    else:\n",
    "        print('Computer win this round')\n",
    "        com_wins += 1\n",
    "    return com_wins, user_wins"
   ]
  },
  {
   "cell_type": "code",
   "execution_count": null,
   "metadata": {},
   "outputs": [],
   "source": [
    "com_wins = user_wins = 0\n",
    "for round in range(1, 6):\n",
    "    print(f'Round: {round}')\n",
    "    user_choice = user_choose()\n",
    "    com_choice = comp_choose()\n",
    "    print(f'Computer choose: {com_choice}, user choose: {user_choice}')\n",
    "\n",
    "    code = who_win(user_choice, com_choice)\n",
    "    com_wins, user_wins = handle_result(code, com_wins, user_wins)\n",
    "    if com_wins == 3 or user_wins == 3:\n",
    "        break\n",
    "\n",
    "print('Game over')\n",
    "print('Computer wins:', com_wins, 'User wins:', user_wins)\n",
    "if com_wins > user_wins:\n",
    "    print('Computer win the game')\n",
    "elif com_wins < user_wins:\n",
    "    print('User win the game')\n",
    "else:\n",
    "    print('Draw game')"
   ]
  }
 ],
 "metadata": {
  "kernelspec": {
   "display_name": "Python 3",
   "language": "python",
   "name": "python3"
  },
  "language_info": {
   "codemirror_mode": {
    "name": "ipython",
    "version": 3
   },
   "file_extension": ".py",
   "mimetype": "text/x-python",
   "name": "python",
   "nbconvert_exporter": "python",
   "pygments_lexer": "ipython3",
   "version": "3.12.4"
  }
 },
 "nbformat": 4,
 "nbformat_minor": 2
}
