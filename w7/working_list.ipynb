{
 "cells": [
  {
   "cell_type": "code",
   "execution_count": 3,
   "metadata": {},
   "outputs": [
    {
     "name": "stdout",
     "output_type": "stream",
     "text": [
      "84 6 72 37 77 1 54 26 5 58 \n",
      "84 6 72 37 77 1 54 26 5 58 "
     ]
    }
   ],
   "source": [
    "# Loop through all items using for loop\n",
    "# Without index\n",
    "import random as rd\n",
    "numbers = rd.sample(range(1, 100), 10)\n",
    "for n in numbers:\n",
    "    print(n, end=' ')\n",
    "print()\n",
    "# With index\n",
    "for i in range(len(numbers)):\n",
    "    print(numbers[i], end=' ')"
   ]
  },
  {
   "cell_type": "code",
   "execution_count": 4,
   "metadata": {},
   "outputs": [
    {
     "name": "stdout",
     "output_type": "stream",
     "text": [
      "84 6 72 54 26 58 "
     ]
    }
   ],
   "source": [
    "# Loop with condition: print all even numbers\n",
    "for n in numbers:\n",
    "    if n % 2 == 0:\n",
    "        print(n, end=' ')"
   ]
  },
  {
   "cell_type": "code",
   "execution_count": null,
   "metadata": {},
   "outputs": [
    {
     "name": "stdout",
     "output_type": "stream",
     "text": [
      "[84, 6, 72, 37, 77, 1, 54, 26, 5, 58]\n"
     ]
    }
   ],
   "source": [
    "print(numbers)\n",
    "x = int(input('Enter a number: '))\n",
    "found = False # set flag to False\n",
    "\n",
    "for n in numbers:\n",
    "    if n == x:\n",
    "        found = True # found x, turn flag to True\n",
    "        break        # no need to continue searching\n",
    "\n",
    "if found:\n",
    "    print(x, 'is in the list')\n",
    "else:\n",
    "    print(x, 'is not in the list')"
   ]
  },
  {
   "cell_type": "code",
   "execution_count": 6,
   "metadata": {},
   "outputs": [
    {
     "name": "stdout",
     "output_type": "stream",
     "text": [
      "Ringo is in the list\n"
     ]
    }
   ],
   "source": [
    "names = ['John', 'Paul', 'George', 'Ringo']\n",
    "# Ex1: enter a name, check if it is in the list\n",
    "name = input('Enter a name: ')\n",
    "found = False\n",
    "for n in names:\n",
    "    if n == name:\n",
    "        found = True\n",
    "        break\n",
    "if found:\n",
    "    print(name, 'is in the list')\n",
    "else:\n",
    "    print(name, 'is not in the list')"
   ]
  },
  {
   "cell_type": "code",
   "execution_count": 8,
   "metadata": {},
   "outputs": [
    {
     "name": "stdout",
     "output_type": "stream",
     "text": [
      "['John', 'Paul', 'George', 'Ringo']\n",
      "Ringo is at position 3\n"
     ]
    }
   ],
   "source": [
    "print(names)\n",
    "pos = -1\n",
    "for i in range(len(names)):\n",
    "    if names[i] == name:\n",
    "        pos = i     # mark the position of name when found\n",
    "        break       # no need to continue searching\n",
    "if pos == -1:\n",
    "    print(name, 'is not in the list')\n",
    "else:\n",
    "    print(name, 'is at position', pos)"
   ]
  },
  {
   "cell_type": "code",
   "execution_count": 11,
   "metadata": {},
   "outputs": [
    {
     "name": "stdout",
     "output_type": "stream",
     "text": [
      "5 appears in the list 2 times\n"
     ]
    }
   ],
   "source": [
    "numbers = [3, 5, 1, 3, 3, 2, 8, 9, 5, 4]\n",
    "x = 5\n",
    "count = 0\n",
    "for n in numbers:\n",
    "    if n == x:\n",
    "        count += 1\n",
    "\n",
    "if count == 0:\n",
    "    print(x, 'is not in the list')\n",
    "else:\n",
    "    print(x, 'appears in the list', count, 'times')"
   ]
  },
  {
   "cell_type": "code",
   "execution_count": 12,
   "metadata": {},
   "outputs": [
    {
     "name": "stdout",
     "output_type": "stream",
     "text": [
      "[64, 2, 24, 39, 98, 57, 87, 96, 59, 46]\n",
      "Sum of all numbers: 572\n"
     ]
    }
   ],
   "source": [
    "numbers = rd.sample(range(1, 100), 10)\n",
    "print(numbers)\n",
    "\n",
    "s = 0\n",
    "for n in numbers:\n",
    "    s += n\n",
    "\n",
    "print('Sum of all numbers:', s)"
   ]
  },
  {
   "cell_type": "code",
   "execution_count": 13,
   "metadata": {},
   "outputs": [
    {
     "name": "stdout",
     "output_type": "stream",
     "text": [
      "Sum of all odd numbers: 242\n"
     ]
    }
   ],
   "source": [
    "# Ex2: find the sum of all odd numbers\n",
    "s = 0\n",
    "for n in numbers:\n",
    "    if n % 2 != 0:\n",
    "        s += n\n",
    "\n",
    "print('Sum of all odd numbers:', s)"
   ]
  },
  {
   "cell_type": "code",
   "execution_count": 15,
   "metadata": {},
   "outputs": [
    {
     "name": "stdout",
     "output_type": "stream",
     "text": [
      "[64, 2, 24, 39, 98, 57, 87, 96, 59, 46]\n",
      "Max value: 98\n"
     ]
    }
   ],
   "source": [
    "print(numbers)\n",
    "max_val = numbers[0]\n",
    "for n in numbers:\n",
    "    if n > max_val:\n",
    "        max_val = n\n",
    "print('Max value:', max_val)"
   ]
  },
  {
   "cell_type": "code",
   "execution_count": 16,
   "metadata": {},
   "outputs": [
    {
     "name": "stdout",
     "output_type": "stream",
     "text": [
      "Min value: 2\n"
     ]
    }
   ],
   "source": [
    "# Ex3: find the min value using for loop with index\n",
    "min_val = numbers[0]\n",
    "for i in range(len(numbers)):\n",
    "    if numbers[i] < min_val:\n",
    "        min_val = numbers[i]\n",
    "\n",
    "print('Min value:', min_val)"
   ]
  },
  {
   "cell_type": "code",
   "execution_count": 17,
   "metadata": {},
   "outputs": [
    {
     "name": "stdout",
     "output_type": "stream",
     "text": [
      "Max value 98 is at position 4\n"
     ]
    }
   ],
   "source": [
    "# Find where the max value is\n",
    "max_val = numbers[0] # set max value to the first element\n",
    "pos_max = 0     # set position of max value to 0\n",
    "\n",
    "for i in range(len(numbers)):\n",
    "    if numbers[i] > max_val:\n",
    "        max_val = numbers[i]    # update max value\n",
    "        pos_max = i             # also update the position where max value is\n",
    "\n",
    "print(f'Max value {max_val} is at position {pos_max}')"
   ]
  },
  {
   "cell_type": "code",
   "execution_count": 19,
   "metadata": {},
   "outputs": [
    {
     "name": "stdout",
     "output_type": "stream",
     "text": [
      "[64, 2, 24, 39, 98, 57, 87, 96, 59, 46]\n",
      "2 is in the list\n"
     ]
    }
   ],
   "source": [
    "def find(x, items):\n",
    "    for i in items:\n",
    "        if i == x:\n",
    "            return True\n",
    "    return False\n",
    "\n",
    "print(numbers)\n",
    "x = 2\n",
    "if find(x, numbers):\n",
    "    print(x, 'is in the list')\n",
    "else:\n",
    "    print(x, 'is not in the list')"
   ]
  },
  {
   "cell_type": "code",
   "execution_count": 21,
   "metadata": {},
   "outputs": [
    {
     "name": "stdout",
     "output_type": "stream",
     "text": [
      "[64, 2, 24, 39, 98, 57, 87, 96, 59, 46]\n",
      "572\n",
      "10\n"
     ]
    }
   ],
   "source": [
    "def cal_sum(items):\n",
    "    s = 0\n",
    "    for i in items:\n",
    "        s += i\n",
    "    return s\n",
    "\n",
    "print(numbers)\n",
    "print(cal_sum(numbers))\n",
    "a = [1, 2, 3, 4]\n",
    "print(cal_sum(a))"
   ]
  }
 ],
 "metadata": {
  "kernelspec": {
   "display_name": "Python 3",
   "language": "python",
   "name": "python3"
  },
  "language_info": {
   "codemirror_mode": {
    "name": "ipython",
    "version": 3
   },
   "file_extension": ".py",
   "mimetype": "text/x-python",
   "name": "python",
   "nbconvert_exporter": "python",
   "pygments_lexer": "ipython3",
   "version": "3.12.4"
  }
 },
 "nbformat": 4,
 "nbformat_minor": 2
}
