{
 "cells": [
  {
   "cell_type": "code",
   "execution_count": null,
   "metadata": {},
   "outputs": [],
   "source": [
    "# Declare a list: using square brackets []\n",
    "numbers = [2, 0, 4, 8, 19]\n",
    "print(numbers)\n",
    "\n",
    "names = ['John', 'Adam', 'Sarah', 'Jane']\n",
    "print(names)\n",
    "\n",
    "# empty list\n",
    "empty_list = []\n",
    "print(empty_list)"
   ]
  },
  {
   "cell_type": "code",
   "execution_count": null,
   "metadata": {},
   "outputs": [],
   "source": [
    "# Access elements in a list, using index, starting from 0\n",
    "print(names[0]) # John\n",
    "print(numbers[2]) # 4\n",
    "print(numbers[10]) # error because index is out of range"
   ]
  },
  {
   "cell_type": "code",
   "execution_count": 4,
   "metadata": {},
   "outputs": [
    {
     "name": "stdout",
     "output_type": "stream",
     "text": [
      "[2, 10, 4, 8, 19]\n"
     ]
    }
   ],
   "source": [
    "# change element in a list using index\n",
    "numbers[1] = 10\n",
    "print(numbers)"
   ]
  },
  {
   "cell_type": "code",
   "execution_count": 6,
   "metadata": {},
   "outputs": [
    {
     "name": "stdout",
     "output_type": "stream",
     "text": [
      "[1, 'hello', 3.14, True]\n",
      "[1, [2, 3], [4, 5]]\n",
      "[4, 5]\n"
     ]
    }
   ],
   "source": [
    "# List of difference data types\n",
    "my_list = [1, 'hello', 3.14, True]\n",
    "print(my_list)\n",
    "my_list = [1, [2, 3], [4, 5]]\n",
    "print(my_list)\n",
    "print(my_list[2])"
   ]
  },
  {
   "cell_type": "code",
   "execution_count": null,
   "metadata": {},
   "outputs": [
    {
     "name": "stdout",
     "output_type": "stream",
     "text": [
      "[1, 2, 3, 'hello', 'world']\n",
      "[1, 2, 3, 1, 2, 3, 1, 2, 3]\n",
      "['hello', 'world', 'hello', 'world', 'hello', 'world', 'hello', 'world']\n"
     ]
    }
   ],
   "source": [
    "# List operators: \n",
    "# +, *, in, not in, ==, !=\n",
    "a = [1, 2, 3]\n",
    "b = ['hello', 'world']\n",
    "c = a + b # can only add two lists, not list and integer or other data types\n",
    "print(c)\n",
    "\n",
    "a = a * 3 # can multiply a list with an integer\n",
    "print(a)\n",
    "b = 4 * b \n",
    "print(b)"
   ]
  },
  {
   "cell_type": "code",
   "execution_count": null,
   "metadata": {},
   "outputs": [],
   "source": [
    "a = [1, 2, 3]\n",
    "b = [3, 4, 5]\n",
    "c = a * b # error cannot multiply two lists\n",
    "print(c)"
   ]
  },
  {
   "cell_type": "code",
   "execution_count": 12,
   "metadata": {},
   "outputs": [
    {
     "name": "stdout",
     "output_type": "stream",
     "text": [
      "[2, 10, 4, 8, 19]\n",
      "True\n",
      "False\n"
     ]
    }
   ],
   "source": [
    "# Check if an item is in the list or not\n",
    "print(numbers)\n",
    "x = 4\n",
    "print(x in numbers)\n",
    "x = 20\n",
    "print(x in numbers)"
   ]
  },
  {
   "cell_type": "code",
   "execution_count": null,
   "metadata": {},
   "outputs": [
    {
     "name": "stdout",
     "output_type": "stream",
     "text": [
      "True\n",
      "False\n"
     ]
    }
   ],
   "source": [
    "a = [1, 2, 3]\n",
    "b = [1, 2, 3]\n",
    "c = [1, 3, 2]\n",
    "print(a == b)   # check if two lists are equal (same elements, same order)\n",
    "print(a == c)   # c contains same elements as a but in different order"
   ]
  },
  {
   "cell_type": "code",
   "execution_count": null,
   "metadata": {},
   "outputs": [],
   "source": [
    "a = 4\n",
    "b = a\n",
    "print(a, b)\n",
    "a = 100\n",
    "print(a, b) # a change to 100 but b still 4\n",
    "\n",
    "a = [1, 2, 3]\n",
    "b = a\n",
    "print(a, b, sep='\\n')\n",
    "a[0] = 100          # change the first element of a, b will also be changed because b is a reference to a\n",
    "print(a, b, sep='\\n')"
   ]
  },
  {
   "cell_type": "code",
   "execution_count": null,
   "metadata": {},
   "outputs": [],
   "source": [
    "a = [1, 2, 3]\n",
    "b = a\n",
    "print(a, b, sep='\\n')\n",
    "a = ['hello', 'world']  # a will point to the new list, b still points to the old list\n",
    "print(a, b, sep='\\n')"
   ]
  },
  {
   "cell_type": "code",
   "execution_count": 19,
   "metadata": {},
   "outputs": [
    {
     "name": "stdout",
     "output_type": "stream",
     "text": [
      "[25, 73, 87, 74, 83, 99, 50, 24, 23, 53]\n",
      "10\n"
     ]
    }
   ],
   "source": [
    "# Basic functions to work with list: len, sum, max, min\n",
    "import random as rd\n",
    "numbers = rd.sample(range(1, 100), 10) # generate a list of 10 random numbers from 1 to 99\n",
    "print(numbers)\n",
    "\n",
    "# get length of a list\n",
    "print(len(numbers))"
   ]
  },
  {
   "cell_type": "code",
   "execution_count": 20,
   "metadata": {},
   "outputs": [
    {
     "name": "stdout",
     "output_type": "stream",
     "text": [
      "591\n",
      "99\n",
      "23\n"
     ]
    }
   ],
   "source": [
    "# get sum of all elements in a list\n",
    "print(sum(numbers))\n",
    "# get max value in a list\n",
    "print(max(numbers))\n",
    "# get min value in a list\n",
    "print(min(numbers))"
   ]
  },
  {
   "cell_type": "code",
   "execution_count": 23,
   "metadata": {},
   "outputs": [
    {
     "name": "stdout",
     "output_type": "stream",
     "text": [
      "5\n",
      "Sarah\n",
      "Adam\n"
     ]
    }
   ],
   "source": [
    "first_names = ['Anna', 'John', 'Adam', 'Sarah', 'Jane']\n",
    "print(len(first_names))\n",
    "print(max(first_names)) # compare strings based on their alphabetical order\n",
    "print(min(first_names))"
   ]
  },
  {
   "cell_type": "code",
   "execution_count": 26,
   "metadata": {},
   "outputs": [
    {
     "name": "stdout",
     "output_type": "stream",
     "text": [
      "[23, 24, 25, 50, 53, 73, 74, 83, 87, 99]\n",
      "[25, 73, 87, 74, 83, 99, 50, 24, 23, 53]\n",
      "[99, 87, 83, 74, 73, 53, 50, 25, 24, 23]\n",
      "['Adam', 'Anna', 'Jane', 'John', 'Sarah']\n",
      "['Sarah', 'John', 'Jane', 'Anna', 'Adam']\n"
     ]
    }
   ],
   "source": [
    "# Sort a list then return a sorted list\n",
    "sorted_numbers = sorted(numbers)\n",
    "print(sorted_numbers)\n",
    "print(numbers) # numbers is not changed\n",
    "sorted_numbers = sorted(numbers, reverse=True)\n",
    "print(sorted_numbers)\n",
    "sorted_names = sorted(first_names)\n",
    "print(sorted_names)\n",
    "sorted_names = sorted(first_names, reverse=True)\n",
    "print(sorted_names)"
   ]
  }
 ],
 "metadata": {
  "kernelspec": {
   "display_name": "Python 3",
   "language": "python",
   "name": "python3"
  },
  "language_info": {
   "codemirror_mode": {
    "name": "ipython",
    "version": 3
   },
   "file_extension": ".py",
   "mimetype": "text/x-python",
   "name": "python",
   "nbconvert_exporter": "python",
   "pygments_lexer": "ipython3",
   "version": "3.12.4"
  }
 },
 "nbformat": 4,
 "nbformat_minor": 2
}
