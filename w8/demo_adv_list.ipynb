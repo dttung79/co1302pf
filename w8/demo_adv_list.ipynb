{
 "cells": [
  {
   "cell_type": "code",
   "execution_count": 1,
   "metadata": {},
   "outputs": [
    {
     "name": "stdout",
     "output_type": "stream",
     "text": [
      "[1, 2, 3, 4]\n"
     ]
    }
   ],
   "source": [
    "# List methods: append, insert, remove, pop, clear, index, count, sort, reverse, copy\n",
    "# append: add an item to the end of the list\n",
    "a = [1, 2, 3]\n",
    "a.append(4)\n",
    "print(a)"
   ]
  },
  {
   "cell_type": "code",
   "execution_count": null,
   "metadata": {},
   "outputs": [
    {
     "name": "stdout",
     "output_type": "stream",
     "text": [
      "[1, 2, 100, 3, 4]\n"
     ]
    }
   ],
   "source": [
    "# insert: insert an item at a given position\n",
    "a.insert(2, 100)    # insert 100 at index 2\n",
    "print(a)"
   ]
  },
  {
   "cell_type": "code",
   "execution_count": null,
   "metadata": {},
   "outputs": [
    {
     "name": "stdout",
     "output_type": "stream",
     "text": [
      "[1, 2, 4, 3, 5]\n"
     ]
    }
   ],
   "source": [
    "# remove: remove the 1st item of a given value\n",
    "a = [1, 2, 3, 4, 3, 5]\n",
    "a.remove(3) # remove the first 3\n",
    "print(a)"
   ]
  },
  {
   "cell_type": "code",
   "execution_count": null,
   "metadata": {},
   "outputs": [
    {
     "name": "stdout",
     "output_type": "stream",
     "text": [
      "[1, 2, 4, 5]\n",
      "3\n",
      "[1, 2, 4]\n",
      "5\n"
     ]
    }
   ],
   "source": [
    "# pop: remove the item at a given position and return it\n",
    "a = [1, 2, 3, 4, 5]\n",
    "c = a.pop(2)    # remove the item at index 2\n",
    "print(a)\n",
    "print(c)\n",
    "c = a.pop()     # remove the last item\n",
    "print(a)\n",
    "print(c)"
   ]
  },
  {
   "cell_type": "code",
   "execution_count": 6,
   "metadata": {},
   "outputs": [
    {
     "name": "stdout",
     "output_type": "stream",
     "text": [
      "[]\n"
     ]
    }
   ],
   "source": [
    "# clear: remove all items\n",
    "a = [1, 2, 3, 4, 5]\n",
    "a.clear()\n",
    "print(a)"
   ]
  },
  {
   "cell_type": "code",
   "execution_count": null,
   "metadata": {},
   "outputs": [
    {
     "name": "stdout",
     "output_type": "stream",
     "text": [
      "1\n"
     ]
    },
    {
     "ename": "ValueError",
     "evalue": "'John' is not in list",
     "output_type": "error",
     "traceback": [
      "\u001b[0;31m---------------------------------------------------------------------------\u001b[0m",
      "\u001b[0;31mValueError\u001b[0m                                Traceback (most recent call last)",
      "Cell \u001b[0;32mIn[7], line 5\u001b[0m\n\u001b[1;32m      3\u001b[0m pos \u001b[38;5;241m=\u001b[39m names\u001b[38;5;241m.\u001b[39mindex(\u001b[38;5;124m'\u001b[39m\u001b[38;5;124mBob\u001b[39m\u001b[38;5;124m'\u001b[39m) \u001b[38;5;66;03m# return the index of the first 'Bob' which is 1\u001b[39;00m\n\u001b[1;32m      4\u001b[0m \u001b[38;5;28mprint\u001b[39m(pos)\n\u001b[0;32m----> 5\u001b[0m pos \u001b[38;5;241m=\u001b[39m \u001b[43mnames\u001b[49m\u001b[38;5;241;43m.\u001b[39;49m\u001b[43mindex\u001b[49m\u001b[43m(\u001b[49m\u001b[38;5;124;43m'\u001b[39;49m\u001b[38;5;124;43mJohn\u001b[39;49m\u001b[38;5;124;43m'\u001b[39;49m\u001b[43m)\u001b[49m\n\u001b[1;32m      6\u001b[0m \u001b[38;5;28mprint\u001b[39m(pos)\n",
      "\u001b[0;31mValueError\u001b[0m: 'John' is not in list"
     ]
    }
   ],
   "source": [
    "# index: return the index of the first item of a given value\n",
    "names = ['Alice', 'Bob', 'Charlie', 'Bob', 'David']\n",
    "pos = names.index('Bob') # return the index of the first 'Bob' which is 1\n",
    "print(pos)\n",
    "pos = names.index('John')  # ValueError: 'John' is not in list\n",
    "print(pos)"
   ]
  },
  {
   "cell_type": "code",
   "execution_count": 10,
   "metadata": {},
   "outputs": [
    {
     "name": "stdout",
     "output_type": "stream",
     "text": [
      "['Alice', 'Bob', 'Charlie', 'Bob', 'David']\n",
      "2\n",
      "0\n",
      "1\n"
     ]
    }
   ],
   "source": [
    "# count: return the number of times a value appears in the list\n",
    "print(names)\n",
    "c = names.count('Bob') # return 2\n",
    "print(c)\n",
    "c = names.count('John')    # return 0\n",
    "print(c)\n",
    "c = names.count('Alice')   # return 1\n",
    "print(c)"
   ]
  },
  {
   "cell_type": "code",
   "execution_count": 11,
   "metadata": {},
   "outputs": [
    {
     "name": "stdout",
     "output_type": "stream",
     "text": [
      "[78, 2, 46, 73, 48, 40, 99, 39, 93, 94]\n",
      "[2, 39, 40, 46, 48, 73, 78, 93, 94, 99]\n",
      "[78, 2, 46, 73, 48, 40, 99, 39, 93, 94]\n",
      "[2, 39, 40, 46, 48, 73, 78, 93, 94, 99]\n"
     ]
    }
   ],
   "source": [
    "# sort: sort items directly in the list\n",
    "import random as rd\n",
    "a = rd.sample(range(1, 100), 10)\n",
    "print(a)\n",
    "b = sorted(a)\n",
    "print(b)    # b is a new list, sorted from a\n",
    "print(a)    # a is not changed  \n",
    "\n",
    "a.sort()    # sort a directly, so now a is sorted\n",
    "print(a)"
   ]
  },
  {
   "cell_type": "code",
   "execution_count": 13,
   "metadata": {},
   "outputs": [
    {
     "name": "stdout",
     "output_type": "stream",
     "text": [
      "[61, 54, 39, 79, 16, 13, 45, 42, 19, 85]\n",
      "[85, 19, 42, 45, 13, 16, 79, 39, 54, 61]\n"
     ]
    }
   ],
   "source": [
    "# reverse: reverse the list\n",
    "a = rd.sample(range(1, 100), 10)    \n",
    "print(a)\n",
    "a.reverse()\n",
    "print(a)"
   ]
  },
  {
   "cell_type": "code",
   "execution_count": 14,
   "metadata": {},
   "outputs": [
    {
     "name": "stdout",
     "output_type": "stream",
     "text": [
      "[85, 19, 42, 45, 13, 16, 79, 39, 54, 61]\n",
      "[85, 19, 42, 45, 13, 16, 79, 39, 54, 61]\n",
      "[85, 19, 42, 45, 13, 16, 79, 39, 54, 61]\n",
      "['hello', 19, 42, 45, 13, 16, 79, 39, 54, 61]\n",
      "['hello', 19, 42, 45, 13, 16, 79, 39, 54, 61]\n",
      "[85, 19, 42, 45, 13, 16, 79, 39, 54, 61]\n"
     ]
    }
   ],
   "source": [
    "b = a   # b is a reference to a\n",
    "c = a.copy()    # c is a copy of a\n",
    "print(a, b, c, sep='\\n')\n",
    "a[0] = 'hello'\n",
    "print(a, b, c, sep='\\n')    # a, b are changed, c is not changed"
   ]
  },
  {
   "cell_type": "code",
   "execution_count": 19,
   "metadata": {},
   "outputs": [],
   "source": [
    "# Slicing in list: Make a sub list from a list\n",
    "# basic syntax: a[start:stop] getting items from start to stop - 1\n",
    "a = rd.sample(range(1, 100), 10)"
   ]
  },
  {
   "cell_type": "code",
   "execution_count": 21,
   "metadata": {},
   "outputs": [
    {
     "name": "stdout",
     "output_type": "stream",
     "text": [
      "[61, 3, 9, 29, 97, 50, 84, 67, 52, 40]\n",
      "[61, 3, 9]\n",
      "[29, 97, 50]\n",
      "[50, 84, 67, 52, 40]\n"
     ]
    }
   ],
   "source": [
    "print(a)\n",
    "# get 3 first items\n",
    "b = a[0:3]\n",
    "print(b)\n",
    "# get items from index 3 to 5\n",
    "b = a[3:6]\n",
    "print(b)\n",
    "# get 5 last items\n",
    "b = a[5:10]\n",
    "print(b)"
   ]
  },
  {
   "cell_type": "code",
   "execution_count": 24,
   "metadata": {},
   "outputs": [
    {
     "name": "stdout",
     "output_type": "stream",
     "text": [
      "[61, 3, 9]\n",
      "[50, 84, 67, 52, 40]\n",
      "[61, 3, 9, 29, 97, 50, 84, 67, 52, 40]\n"
     ]
    }
   ],
   "source": [
    "# when start is 0, it can be omitted\n",
    "b = a[:3]\n",
    "print(b)\n",
    "# when stop is the length of the list, it can be omitted\n",
    "b = a[5:]\n",
    "print(b)\n",
    "# another way to copy a list\n",
    "b = a[:]\n",
    "print(b)"
   ]
  },
  {
   "cell_type": "code",
   "execution_count": 26,
   "metadata": {},
   "outputs": [
    {
     "name": "stdout",
     "output_type": "stream",
     "text": [
      "[61, 3, 9, 29, 97, 50, 84, 67, 52, 40]\n",
      "40\n",
      "52\n"
     ]
    }
   ],
   "source": [
    "# negative index: -1 is the last item, -2 is the 2nd last item, ...\n",
    "print(a)\n",
    "print(a[-1])   # get the last item\n",
    "print(a[-2])   # get the 2nd last item"
   ]
  },
  {
   "cell_type": "code",
   "execution_count": 27,
   "metadata": {},
   "outputs": [
    {
     "name": "stdout",
     "output_type": "stream",
     "text": [
      "[67, 52, 40]\n"
     ]
    }
   ],
   "source": [
    "# get 3 last items using negative index\n",
    "b = a[-3:]\n",
    "print(b)"
   ]
  },
  {
   "cell_type": "code",
   "execution_count": 28,
   "metadata": {},
   "outputs": [
    {
     "name": "stdout",
     "output_type": "stream",
     "text": [
      "[29, 97, 50, 84]\n"
     ]
    }
   ],
   "source": [
    "# remove 3 items at beginning and 3 items at the end\n",
    "b = a[3:-3]\n",
    "print(b)"
   ]
  },
  {
   "cell_type": "code",
   "execution_count": 30,
   "metadata": {},
   "outputs": [
    {
     "name": "stdout",
     "output_type": "stream",
     "text": [
      "[61, 3, 9, 29, 97, 50, 84, 67, 52, 40]\n",
      "[40, 52, 67, 84, 50, 97, 29, 9, 3, 61]\n"
     ]
    }
   ],
   "source": [
    "# reverse list using slicing and negative index\n",
    "b = a[::-1]\n",
    "print(a)\n",
    "print(b)"
   ]
  },
  {
   "cell_type": "code",
   "execution_count": 34,
   "metadata": {},
   "outputs": [
    {
     "name": "stdout",
     "output_type": "stream",
     "text": [
      "[61, 3, 9, 29, 97, 50, 84, 67, 52, 40]\n",
      "[29, 50, 67]\n",
      "[40, 67, 50]\n",
      "[61, 9, 97, 84, 52]\n",
      "[3, 29, 50, 67, 40]\n"
     ]
    }
   ],
   "source": [
    "# Full syntax: a[start:stop:step]: get items from start to stop - 1 with step\n",
    "print(a)\n",
    "b = a[3:8:2]  # get items from index 3 to 7 with step 2\n",
    "print(b)\n",
    "b = a[9:3:-2]\n",
    "print(b)\n",
    "print(a[::2])  # get items at even index\n",
    "print(a[1::2]) # get items at odd index"
   ]
  }
 ],
 "metadata": {
  "kernelspec": {
   "display_name": "Python 3",
   "language": "python",
   "name": "python3"
  },
  "language_info": {
   "codemirror_mode": {
    "name": "ipython",
    "version": 3
   },
   "file_extension": ".py",
   "mimetype": "text/x-python",
   "name": "python",
   "nbconvert_exporter": "python",
   "pygments_lexer": "ipython3",
   "version": "3.12.4"
  }
 },
 "nbformat": 4,
 "nbformat_minor": 2
}
