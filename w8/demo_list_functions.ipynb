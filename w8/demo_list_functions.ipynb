{
 "cells": [
  {
   "cell_type": "code",
   "execution_count": 4,
   "metadata": {},
   "outputs": [
    {
     "name": "stdout",
     "output_type": "stream",
     "text": [
      "Product with the highest price: notebook: $2.5\n"
     ]
    }
   ],
   "source": [
    "list_products = ['pencil', 'pen', 'notebook', 'eraser', 'sharpener', 'ruler']\n",
    "list_prices = [0.5, 1.0, 2.5, 0.3, 0.7, 1.2]\n",
    "list_quantities = [100, 75, 25, 120, 10, 60]\n",
    "# Which product has the highest price?\n",
    "max_price = list_prices[0]\n",
    "i_max = 0\n",
    "for i in range(1, len(list_prices)):\n",
    "    if list_prices[i] > max_price:\n",
    "        max_price = list_prices[i]\n",
    "        i_max = i\n",
    "\n",
    "print(f'Product with the highest price: {list_products[i_max]}: ${max_price}')"
   ]
  },
  {
   "cell_type": "code",
   "execution_count": 5,
   "metadata": {},
   "outputs": [
    {
     "name": "stdout",
     "output_type": "stream",
     "text": [
      "Product with the minimum quantity: sharpener: 10\n"
     ]
    }
   ],
   "source": [
    "# Which product has minimum quantity?\n",
    "min_quantity = list_quantities[0]\n",
    "i_min = 0\n",
    "for i in range(1, len(list_quantities)):\n",
    "    if list_quantities[i] < min_quantity:\n",
    "        min_quantity = list_quantities[i]\n",
    "        i_min = i\n",
    "print(f'Product with the minimum quantity: {list_products[i_min]}: {min_quantity}')"
   ]
  },
  {
   "cell_type": "code",
   "execution_count": 7,
   "metadata": {},
   "outputs": [
    {
     "name": "stdout",
     "output_type": "stream",
     "text": [
      "Product pencil - revenue: $50.0\n",
      "Product pen - revenue: $75.0\n",
      "Product notebook - revenue: $62.5\n",
      "Product eraser - revenue: $36.0\n",
      "Product sharpener - revenue: $7.0\n",
      "Product ruler - revenue: $72.0\n",
      "Product that will give the highest revenue: pen: $75.0\n"
     ]
    }
   ],
   "source": [
    "# Which product if sold out will give the highest revenue?\n",
    "max_revenue = list_prices[0] * list_quantities[0]\n",
    "i_max = 0\n",
    "for i in range(len(list_prices)):\n",
    "    revenue = list_prices[i] * list_quantities[i]\n",
    "    print(f'Product {list_products[i]} - revenue: ${revenue}')\n",
    "    if revenue > max_revenue:\n",
    "        max_revenue = revenue\n",
    "        i_max = i\n",
    "\n",
    "print(f'Product that will give the highest revenue: {list_products[i_max]}: ${max_revenue}')"
   ]
  },
  {
   "cell_type": "code",
   "execution_count": null,
   "metadata": {},
   "outputs": [],
   "source": [
    "# Enter a product name, print its price and quantity if found\n",
    "name = input('Enter a product name: ')\n",
    "found = False\n",
    "for i in range(len(list_products)):\n",
    "    if list_products[i] == name:\n",
    "        print(f'Price: ${list_prices[i]}, Quantity: {list_quantities[i]}')\n",
    "        found = True\n",
    "        break\n",
    "if not found:\n",
    "    print(f'Product {name} not found')"
   ]
  },
  {
   "cell_type": "code",
   "execution_count": 9,
   "metadata": {},
   "outputs": [
    {
     "name": "stdout",
     "output_type": "stream",
     "text": [
      "List of products to achieve goal:\n",
      "Product pen: $75.0\n",
      "Product notebook: $62.5\n",
      "Product ruler: $72.0\n",
      "Total products to achieve goal: 3\n"
     ]
    }
   ],
   "source": [
    "# enter a goal for revenue, print the products that need to be sold to reach the goal\n",
    "# count how many products need to be sold\n",
    "revenue_goal = float(input('Enter a goal for revenue: $'))\n",
    "count = 0\n",
    "print('List of products to achieve goal:')\n",
    "for i in range(len(list_prices)):\n",
    "    revenue = list_prices[i] * list_quantities[i]\n",
    "    if revenue >= revenue_goal:\n",
    "        count += 1\n",
    "        print(f'Product {list_products[i]}: ${revenue}')\n",
    "\n",
    "print(f'Total products to achieve goal: {count}')"
   ]
  }
 ],
 "metadata": {
  "kernelspec": {
   "display_name": "Python 3",
   "language": "python",
   "name": "python3"
  },
  "language_info": {
   "codemirror_mode": {
    "name": "ipython",
    "version": 3
   },
   "file_extension": ".py",
   "mimetype": "text/x-python",
   "name": "python",
   "nbconvert_exporter": "python",
   "pygments_lexer": "ipython3",
   "version": "3.12.4"
  }
 },
 "nbformat": 4,
 "nbformat_minor": 2
}
